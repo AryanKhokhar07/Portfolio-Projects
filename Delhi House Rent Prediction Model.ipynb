{
 "cells": [
  {
   "cell_type": "markdown",
   "metadata": {},
   "source": [
    "<h1 align=\"center\">DELHI HOUSE RENT PREDICTION MODEL</h1>"
   ]
  },
  {
   "cell_type": "markdown",
   "metadata": {},
   "source": [
    "Dataset: https://www.kaggle.com/datasets/andynath/new-delhi-rental-listings"
   ]
  },
  {
   "cell_type": "code",
   "execution_count": 43,
   "metadata": {},
   "outputs": [],
   "source": [
    "import pandas as pd\n",
    "import numpy as np\n",
    "%matplotlib inline\n",
    "import matplotlib.pyplot as plt\n",
    "import seaborn as sns\n",
    "\n",
    "import warnings\n",
    "warnings.filterwarnings('ignore')"
   ]
  },
  {
   "cell_type": "code",
   "execution_count": 3,
   "metadata": {},
   "outputs": [],
   "source": [
    "df1 = pd.read_csv(\"ND_rental_data.csv\")"
   ]
  },
  {
   "cell_type": "code",
   "execution_count": 4,
   "metadata": {},
   "outputs": [
    {
     "data": {
      "text/html": [
       "<div>\n",
       "<style scoped>\n",
       "    .dataframe tbody tr th:only-of-type {\n",
       "        vertical-align: middle;\n",
       "    }\n",
       "\n",
       "    .dataframe tbody tr th {\n",
       "        vertical-align: top;\n",
       "    }\n",
       "\n",
       "    .dataframe thead th {\n",
       "        text-align: right;\n",
       "    }\n",
       "</style>\n",
       "<table border=\"1\" class=\"dataframe\">\n",
       "  <thead>\n",
       "    <tr style=\"text-align: right;\">\n",
       "      <th></th>\n",
       "      <th>Unnamed: 0</th>\n",
       "      <th>size_sq_ft</th>\n",
       "      <th>propertyType</th>\n",
       "      <th>bedrooms</th>\n",
       "      <th>latitude</th>\n",
       "      <th>longitude</th>\n",
       "      <th>localityName</th>\n",
       "      <th>suburbName</th>\n",
       "      <th>cityName</th>\n",
       "      <th>price</th>\n",
       "      <th>companyName</th>\n",
       "      <th>closest_mtero_station_km</th>\n",
       "      <th>AP_dist_km</th>\n",
       "      <th>Aiims_dist_km</th>\n",
       "      <th>NDRLW_dist_km</th>\n",
       "    </tr>\n",
       "  </thead>\n",
       "  <tbody>\n",
       "    <tr>\n",
       "      <th>0</th>\n",
       "      <td>0</td>\n",
       "      <td>400</td>\n",
       "      <td>Independent Floor</td>\n",
       "      <td>1</td>\n",
       "      <td>28.641010</td>\n",
       "      <td>77.284386</td>\n",
       "      <td>Swasthya Vihar</td>\n",
       "      <td>Delhi East</td>\n",
       "      <td>Delhi</td>\n",
       "      <td>9000</td>\n",
       "      <td>Dream Homez</td>\n",
       "      <td>0.577495</td>\n",
       "      <td>21.741188</td>\n",
       "      <td>11.119239</td>\n",
       "      <td>6.227231</td>\n",
       "    </tr>\n",
       "    <tr>\n",
       "      <th>1</th>\n",
       "      <td>1</td>\n",
       "      <td>1050</td>\n",
       "      <td>Apartment</td>\n",
       "      <td>2</td>\n",
       "      <td>28.594969</td>\n",
       "      <td>77.298668</td>\n",
       "      <td>mayur vihar phase 1</td>\n",
       "      <td>Delhi East</td>\n",
       "      <td>Delhi</td>\n",
       "      <td>20000</td>\n",
       "      <td>Rupak Properties Stock</td>\n",
       "      <td>0.417142</td>\n",
       "      <td>21.401856</td>\n",
       "      <td>9.419061</td>\n",
       "      <td>9.217502</td>\n",
       "    </tr>\n",
       "    <tr>\n",
       "      <th>2</th>\n",
       "      <td>2</td>\n",
       "      <td>2250</td>\n",
       "      <td>Independent Floor</td>\n",
       "      <td>2</td>\n",
       "      <td>28.641806</td>\n",
       "      <td>77.293922</td>\n",
       "      <td>Swasthya Vihar</td>\n",
       "      <td>Delhi East</td>\n",
       "      <td>Delhi</td>\n",
       "      <td>28000</td>\n",
       "      <td>Aashiyana Real Estate</td>\n",
       "      <td>0.125136</td>\n",
       "      <td>22.620365</td>\n",
       "      <td>11.829486</td>\n",
       "      <td>7.159184</td>\n",
       "    </tr>\n",
       "    <tr>\n",
       "      <th>3</th>\n",
       "      <td>3</td>\n",
       "      <td>1350</td>\n",
       "      <td>Independent Floor</td>\n",
       "      <td>2</td>\n",
       "      <td>28.644363</td>\n",
       "      <td>77.293228</td>\n",
       "      <td>Krishna Nagar</td>\n",
       "      <td>Delhi East</td>\n",
       "      <td>Delhi</td>\n",
       "      <td>28000</td>\n",
       "      <td>Shivam Real Estate</td>\n",
       "      <td>0.371709</td>\n",
       "      <td>22.681201</td>\n",
       "      <td>11.982708</td>\n",
       "      <td>7.097348</td>\n",
       "    </tr>\n",
       "    <tr>\n",
       "      <th>4</th>\n",
       "      <td>4</td>\n",
       "      <td>450</td>\n",
       "      <td>Apartment</td>\n",
       "      <td>2</td>\n",
       "      <td>28.594736</td>\n",
       "      <td>77.311150</td>\n",
       "      <td>New Ashok Nagar</td>\n",
       "      <td>Delhi East</td>\n",
       "      <td>Delhi</td>\n",
       "      <td>12500</td>\n",
       "      <td>Shree Properties</td>\n",
       "      <td>1.087760</td>\n",
       "      <td>22.592810</td>\n",
       "      <td>10.571573</td>\n",
       "      <td>10.263271</td>\n",
       "    </tr>\n",
       "  </tbody>\n",
       "</table>\n",
       "</div>"
      ],
      "text/plain": [
       "   Unnamed: 0  size_sq_ft       propertyType  bedrooms   latitude  longitude  \\\n",
       "0           0         400  Independent Floor         1  28.641010  77.284386   \n",
       "1           1        1050          Apartment         2  28.594969  77.298668   \n",
       "2           2        2250  Independent Floor         2  28.641806  77.293922   \n",
       "3           3        1350  Independent Floor         2  28.644363  77.293228   \n",
       "4           4         450          Apartment         2  28.594736  77.311150   \n",
       "\n",
       "          localityName  suburbName cityName  price             companyName  \\\n",
       "0       Swasthya Vihar  Delhi East    Delhi   9000             Dream Homez   \n",
       "1  mayur vihar phase 1  Delhi East    Delhi  20000  Rupak Properties Stock   \n",
       "2       Swasthya Vihar  Delhi East    Delhi  28000   Aashiyana Real Estate   \n",
       "3        Krishna Nagar  Delhi East    Delhi  28000      Shivam Real Estate   \n",
       "4      New Ashok Nagar  Delhi East    Delhi  12500        Shree Properties   \n",
       "\n",
       "   closest_mtero_station_km  AP_dist_km  Aiims_dist_km  NDRLW_dist_km  \n",
       "0                  0.577495   21.741188      11.119239       6.227231  \n",
       "1                  0.417142   21.401856       9.419061       9.217502  \n",
       "2                  0.125136   22.620365      11.829486       7.159184  \n",
       "3                  0.371709   22.681201      11.982708       7.097348  \n",
       "4                  1.087760   22.592810      10.571573      10.263271  "
      ]
     },
     "execution_count": 4,
     "metadata": {},
     "output_type": "execute_result"
    }
   ],
   "source": [
    "df1.head()"
   ]
  },
  {
   "cell_type": "code",
   "execution_count": 5,
   "metadata": {},
   "outputs": [
    {
     "data": {
      "text/html": [
       "<div>\n",
       "<style scoped>\n",
       "    .dataframe tbody tr th:only-of-type {\n",
       "        vertical-align: middle;\n",
       "    }\n",
       "\n",
       "    .dataframe tbody tr th {\n",
       "        vertical-align: top;\n",
       "    }\n",
       "\n",
       "    .dataframe thead th {\n",
       "        text-align: right;\n",
       "    }\n",
       "</style>\n",
       "<table border=\"1\" class=\"dataframe\">\n",
       "  <thead>\n",
       "    <tr style=\"text-align: right;\">\n",
       "      <th></th>\n",
       "      <th>size_sq_ft</th>\n",
       "      <th>propertyType</th>\n",
       "      <th>bedrooms</th>\n",
       "      <th>latitude</th>\n",
       "      <th>longitude</th>\n",
       "      <th>localityName</th>\n",
       "      <th>suburbName</th>\n",
       "      <th>cityName</th>\n",
       "      <th>price</th>\n",
       "      <th>companyName</th>\n",
       "      <th>closest_mtero_station_km</th>\n",
       "      <th>AP_dist_km</th>\n",
       "      <th>Aiims_dist_km</th>\n",
       "      <th>NDRLW_dist_km</th>\n",
       "    </tr>\n",
       "  </thead>\n",
       "  <tbody>\n",
       "    <tr>\n",
       "      <th>0</th>\n",
       "      <td>400</td>\n",
       "      <td>Independent Floor</td>\n",
       "      <td>1</td>\n",
       "      <td>28.641010</td>\n",
       "      <td>77.284386</td>\n",
       "      <td>Swasthya Vihar</td>\n",
       "      <td>Delhi East</td>\n",
       "      <td>Delhi</td>\n",
       "      <td>9000</td>\n",
       "      <td>Dream Homez</td>\n",
       "      <td>0.577495</td>\n",
       "      <td>21.741188</td>\n",
       "      <td>11.119239</td>\n",
       "      <td>6.227231</td>\n",
       "    </tr>\n",
       "    <tr>\n",
       "      <th>1</th>\n",
       "      <td>1050</td>\n",
       "      <td>Apartment</td>\n",
       "      <td>2</td>\n",
       "      <td>28.594969</td>\n",
       "      <td>77.298668</td>\n",
       "      <td>mayur vihar phase 1</td>\n",
       "      <td>Delhi East</td>\n",
       "      <td>Delhi</td>\n",
       "      <td>20000</td>\n",
       "      <td>Rupak Properties Stock</td>\n",
       "      <td>0.417142</td>\n",
       "      <td>21.401856</td>\n",
       "      <td>9.419061</td>\n",
       "      <td>9.217502</td>\n",
       "    </tr>\n",
       "    <tr>\n",
       "      <th>2</th>\n",
       "      <td>2250</td>\n",
       "      <td>Independent Floor</td>\n",
       "      <td>2</td>\n",
       "      <td>28.641806</td>\n",
       "      <td>77.293922</td>\n",
       "      <td>Swasthya Vihar</td>\n",
       "      <td>Delhi East</td>\n",
       "      <td>Delhi</td>\n",
       "      <td>28000</td>\n",
       "      <td>Aashiyana Real Estate</td>\n",
       "      <td>0.125136</td>\n",
       "      <td>22.620365</td>\n",
       "      <td>11.829486</td>\n",
       "      <td>7.159184</td>\n",
       "    </tr>\n",
       "    <tr>\n",
       "      <th>3</th>\n",
       "      <td>1350</td>\n",
       "      <td>Independent Floor</td>\n",
       "      <td>2</td>\n",
       "      <td>28.644363</td>\n",
       "      <td>77.293228</td>\n",
       "      <td>Krishna Nagar</td>\n",
       "      <td>Delhi East</td>\n",
       "      <td>Delhi</td>\n",
       "      <td>28000</td>\n",
       "      <td>Shivam Real Estate</td>\n",
       "      <td>0.371709</td>\n",
       "      <td>22.681201</td>\n",
       "      <td>11.982708</td>\n",
       "      <td>7.097348</td>\n",
       "    </tr>\n",
       "    <tr>\n",
       "      <th>4</th>\n",
       "      <td>450</td>\n",
       "      <td>Apartment</td>\n",
       "      <td>2</td>\n",
       "      <td>28.594736</td>\n",
       "      <td>77.311150</td>\n",
       "      <td>New Ashok Nagar</td>\n",
       "      <td>Delhi East</td>\n",
       "      <td>Delhi</td>\n",
       "      <td>12500</td>\n",
       "      <td>Shree Properties</td>\n",
       "      <td>1.087760</td>\n",
       "      <td>22.592810</td>\n",
       "      <td>10.571573</td>\n",
       "      <td>10.263271</td>\n",
       "    </tr>\n",
       "  </tbody>\n",
       "</table>\n",
       "</div>"
      ],
      "text/plain": [
       "   size_sq_ft       propertyType  bedrooms   latitude  longitude  \\\n",
       "0         400  Independent Floor         1  28.641010  77.284386   \n",
       "1        1050          Apartment         2  28.594969  77.298668   \n",
       "2        2250  Independent Floor         2  28.641806  77.293922   \n",
       "3        1350  Independent Floor         2  28.644363  77.293228   \n",
       "4         450          Apartment         2  28.594736  77.311150   \n",
       "\n",
       "          localityName  suburbName cityName  price             companyName  \\\n",
       "0       Swasthya Vihar  Delhi East    Delhi   9000             Dream Homez   \n",
       "1  mayur vihar phase 1  Delhi East    Delhi  20000  Rupak Properties Stock   \n",
       "2       Swasthya Vihar  Delhi East    Delhi  28000   Aashiyana Real Estate   \n",
       "3        Krishna Nagar  Delhi East    Delhi  28000      Shivam Real Estate   \n",
       "4      New Ashok Nagar  Delhi East    Delhi  12500        Shree Properties   \n",
       "\n",
       "   closest_mtero_station_km  AP_dist_km  Aiims_dist_km  NDRLW_dist_km  \n",
       "0                  0.577495   21.741188      11.119239       6.227231  \n",
       "1                  0.417142   21.401856       9.419061       9.217502  \n",
       "2                  0.125136   22.620365      11.829486       7.159184  \n",
       "3                  0.371709   22.681201      11.982708       7.097348  \n",
       "4                  1.087760   22.592810      10.571573      10.263271  "
      ]
     },
     "execution_count": 5,
     "metadata": {},
     "output_type": "execute_result"
    }
   ],
   "source": [
    "df2 = df1.drop('Unnamed: 0', axis='columns')\n",
    "df2.head()"
   ]
  },
  {
   "cell_type": "code",
   "execution_count": 6,
   "metadata": {},
   "outputs": [
    {
     "data": {
      "text/plain": [
       "(17890, 14)"
      ]
     },
     "execution_count": 6,
     "metadata": {},
     "output_type": "execute_result"
    }
   ],
   "source": [
    "df2.shape"
   ]
  },
  {
   "cell_type": "code",
   "execution_count": 7,
   "metadata": {},
   "outputs": [
    {
     "data": {
      "text/plain": [
       "0"
      ]
     },
     "execution_count": 7,
     "metadata": {},
     "output_type": "execute_result"
    }
   ],
   "source": [
    "df2.duplicated().sum()"
   ]
  },
  {
   "cell_type": "code",
   "execution_count": 8,
   "metadata": {},
   "outputs": [
    {
     "name": "stdout",
     "output_type": "stream",
     "text": [
      "<class 'pandas.core.frame.DataFrame'>\n",
      "RangeIndex: 17890 entries, 0 to 17889\n",
      "Data columns (total 14 columns):\n",
      " #   Column                    Non-Null Count  Dtype  \n",
      "---  ------                    --------------  -----  \n",
      " 0   size_sq_ft                17890 non-null  int64  \n",
      " 1   propertyType              17890 non-null  object \n",
      " 2   bedrooms                  17890 non-null  int64  \n",
      " 3   latitude                  17890 non-null  float64\n",
      " 4   longitude                 17890 non-null  float64\n",
      " 5   localityName              17890 non-null  object \n",
      " 6   suburbName                17890 non-null  object \n",
      " 7   cityName                  17890 non-null  object \n",
      " 8   price                     17890 non-null  int64  \n",
      " 9   companyName               17890 non-null  object \n",
      " 10  closest_mtero_station_km  17890 non-null  float64\n",
      " 11  AP_dist_km                17890 non-null  float64\n",
      " 12  Aiims_dist_km             17890 non-null  float64\n",
      " 13  NDRLW_dist_km             17890 non-null  float64\n",
      "dtypes: float64(6), int64(3), object(5)\n",
      "memory usage: 1.9+ MB\n"
     ]
    }
   ],
   "source": [
    "df2.info()"
   ]
  },
  {
   "cell_type": "code",
   "execution_count": 9,
   "metadata": {},
   "outputs": [
    {
     "data": {
      "text/plain": [
       "size_sq_ft                  0\n",
       "propertyType                0\n",
       "bedrooms                    0\n",
       "latitude                    0\n",
       "longitude                   0\n",
       "localityName                0\n",
       "suburbName                  0\n",
       "cityName                    0\n",
       "price                       0\n",
       "companyName                 0\n",
       "closest_mtero_station_km    0\n",
       "AP_dist_km                  0\n",
       "Aiims_dist_km               0\n",
       "NDRLW_dist_km               0\n",
       "dtype: int64"
      ]
     },
     "execution_count": 9,
     "metadata": {},
     "output_type": "execute_result"
    }
   ],
   "source": [
    "df2.isna().sum()"
   ]
  },
  {
   "cell_type": "code",
   "execution_count": 10,
   "metadata": {},
   "outputs": [
    {
     "data": {
      "text/plain": [
       "array(['Delhi East', 'Rohini', 'Delhi South', 'West Delhi', 'North Delhi',\n",
       "       'Dwarka', 'Delhi Central', 'Other', 'South West Delhi',\n",
       "       'Delhi North', 'North West Delhi', 'Delhi West'], dtype=object)"
      ]
     },
     "execution_count": 10,
     "metadata": {},
     "output_type": "execute_result"
    }
   ],
   "source": [
    "df2[\"suburbName\"].unique()"
   ]
  },
  {
   "cell_type": "code",
   "execution_count": 11,
   "metadata": {},
   "outputs": [
    {
     "data": {
      "text/plain": [
       "suburbName\n",
       "Delhi South         3749\n",
       "Delhi Central       2732\n",
       "Other               2706\n",
       "Dwarka              2435\n",
       "West Delhi          2222\n",
       "Delhi East          1933\n",
       "North Delhi         1252\n",
       "Delhi West           314\n",
       "Rohini               274\n",
       "Delhi North          176\n",
       "South West Delhi      86\n",
       "North West Delhi      11\n",
       "Name: count, dtype: int64"
      ]
     },
     "execution_count": 11,
     "metadata": {},
     "output_type": "execute_result"
    }
   ],
   "source": [
    "df2['suburbName'].value_counts()"
   ]
  },
  {
   "cell_type": "code",
   "execution_count": 12,
   "metadata": {},
   "outputs": [],
   "source": [
    "df3 = df2.copy()\n",
    "df3[\"suburbName\"].replace(\"Rohini\",\"North West Delhi\", inplace=True)\n",
    "df3[\"suburbName\"].replace(\"Dwarka\",\"South West Delhi\", inplace=True)\n",
    "df3[\"suburbName\"].replace(\"Delhi East\",\"East Delhi\", inplace=True)\n",
    "df3[\"suburbName\"].replace(\"Delhi South\",\"South Delhi\", inplace=True)\n",
    "df3[\"suburbName\"].replace(\"Delhi Central\",\"Central Delhi\", inplace=True)\n",
    "df3[\"suburbName\"].replace(\"Delhi North\",\"North Delhi\", inplace=True)\n",
    "df3[\"suburbName\"].replace(\"Delhi West\",\"West Delhi\", inplace=True)"
   ]
  },
  {
   "cell_type": "code",
   "execution_count": 13,
   "metadata": {},
   "outputs": [
    {
     "data": {
      "text/plain": [
       "suburbName\n",
       "South Delhi         3749\n",
       "Central Delhi       2732\n",
       "Other               2706\n",
       "West Delhi          2536\n",
       "South West Delhi    2521\n",
       "East Delhi          1933\n",
       "North Delhi         1428\n",
       "North West Delhi     285\n",
       "Name: count, dtype: int64"
      ]
     },
     "execution_count": 13,
     "metadata": {},
     "output_type": "execute_result"
    }
   ],
   "source": [
    "df3[\"suburbName\"].value_counts()"
   ]
  },
  {
   "cell_type": "code",
   "execution_count": 14,
   "metadata": {},
   "outputs": [
    {
     "data": {
      "text/plain": [
       "array([ 1,  2,  3,  4,  5,  6,  7, 10, 15, 12,  8,  9], dtype=int64)"
      ]
     },
     "execution_count": 14,
     "metadata": {},
     "output_type": "execute_result"
    }
   ],
   "source": [
    "df3['bedrooms'].unique()"
   ]
  },
  {
   "cell_type": "code",
   "execution_count": 15,
   "metadata": {},
   "outputs": [
    {
     "data": {
      "text/plain": [
       "bedrooms\n",
       "2     5902\n",
       "3     5532\n",
       "1     5214\n",
       "4     1127\n",
       "5       79\n",
       "6       17\n",
       "10      10\n",
       "7        3\n",
       "8        2\n",
       "9        2\n",
       "15       1\n",
       "12       1\n",
       "Name: count, dtype: int64"
      ]
     },
     "execution_count": 15,
     "metadata": {},
     "output_type": "execute_result"
    }
   ],
   "source": [
    "df3['bedrooms'].value_counts()"
   ]
  },
  {
   "cell_type": "code",
   "execution_count": 16,
   "metadata": {
    "scrolled": true
   },
   "outputs": [
    {
     "data": {
      "text/html": [
       "<div>\n",
       "<style scoped>\n",
       "    .dataframe tbody tr th:only-of-type {\n",
       "        vertical-align: middle;\n",
       "    }\n",
       "\n",
       "    .dataframe tbody tr th {\n",
       "        vertical-align: top;\n",
       "    }\n",
       "\n",
       "    .dataframe thead th {\n",
       "        text-align: right;\n",
       "    }\n",
       "</style>\n",
       "<table border=\"1\" class=\"dataframe\">\n",
       "  <thead>\n",
       "    <tr style=\"text-align: right;\">\n",
       "      <th></th>\n",
       "      <th>size_sq_ft</th>\n",
       "      <th>propertyType</th>\n",
       "      <th>bedrooms</th>\n",
       "      <th>latitude</th>\n",
       "      <th>longitude</th>\n",
       "      <th>localityName</th>\n",
       "      <th>suburbName</th>\n",
       "      <th>cityName</th>\n",
       "      <th>price</th>\n",
       "      <th>companyName</th>\n",
       "      <th>closest_mtero_station_km</th>\n",
       "      <th>AP_dist_km</th>\n",
       "      <th>Aiims_dist_km</th>\n",
       "      <th>NDRLW_dist_km</th>\n",
       "    </tr>\n",
       "  </thead>\n",
       "  <tbody>\n",
       "    <tr>\n",
       "      <th>3352</th>\n",
       "      <td>4500</td>\n",
       "      <td>Independent House</td>\n",
       "      <td>10</td>\n",
       "      <td>28.567463</td>\n",
       "      <td>77.269135</td>\n",
       "      <td>New Friends Colony</td>\n",
       "      <td>South Delhi</td>\n",
       "      <td>Delhi</td>\n",
       "      <td>400000</td>\n",
       "      <td>Moneytree real estate consultants</td>\n",
       "      <td>1.012889</td>\n",
       "      <td>18.102605</td>\n",
       "      <td>6.000900</td>\n",
       "      <td>9.493981</td>\n",
       "    </tr>\n",
       "    <tr>\n",
       "      <th>3525</th>\n",
       "      <td>4050</td>\n",
       "      <td>Independent House</td>\n",
       "      <td>10</td>\n",
       "      <td>28.516312</td>\n",
       "      <td>77.154984</td>\n",
       "      <td>Vasant Kunj</td>\n",
       "      <td>South Delhi</td>\n",
       "      <td>Delhi</td>\n",
       "      <td>330000</td>\n",
       "      <td>Moneytree real estate consultants</td>\n",
       "      <td>1.990471</td>\n",
       "      <td>8.101769</td>\n",
       "      <td>7.622883</td>\n",
       "      <td>15.311770</td>\n",
       "    </tr>\n",
       "    <tr>\n",
       "      <th>4340</th>\n",
       "      <td>4500</td>\n",
       "      <td>Independent House</td>\n",
       "      <td>10</td>\n",
       "      <td>28.574039</td>\n",
       "      <td>77.279091</td>\n",
       "      <td>New Friends Colony</td>\n",
       "      <td>South Delhi</td>\n",
       "      <td>Delhi</td>\n",
       "      <td>350000</td>\n",
       "      <td>Dinesh associates</td>\n",
       "      <td>1.534235</td>\n",
       "      <td>19.140507</td>\n",
       "      <td>7.019701</td>\n",
       "      <td>9.425803</td>\n",
       "    </tr>\n",
       "    <tr>\n",
       "      <th>4393</th>\n",
       "      <td>9000</td>\n",
       "      <td>Independent House</td>\n",
       "      <td>10</td>\n",
       "      <td>28.561720</td>\n",
       "      <td>77.251312</td>\n",
       "      <td>East of Kailash</td>\n",
       "      <td>South Delhi</td>\n",
       "      <td>Delhi</td>\n",
       "      <td>350000</td>\n",
       "      <td>Moneytree real estate consultants</td>\n",
       "      <td>0.547800</td>\n",
       "      <td>16.323059</td>\n",
       "      <td>4.294829</td>\n",
       "      <td>9.356175</td>\n",
       "    </tr>\n",
       "    <tr>\n",
       "      <th>4394</th>\n",
       "      <td>4500</td>\n",
       "      <td>Independent House</td>\n",
       "      <td>10</td>\n",
       "      <td>28.558449</td>\n",
       "      <td>77.202934</td>\n",
       "      <td>Green Park</td>\n",
       "      <td>South Delhi</td>\n",
       "      <td>Delhi</td>\n",
       "      <td>400000</td>\n",
       "      <td>Moneytree real estate consultants</td>\n",
       "      <td>0.358507</td>\n",
       "      <td>11.578610</td>\n",
       "      <td>1.047019</td>\n",
       "      <td>9.388872</td>\n",
       "    </tr>\n",
       "    <tr>\n",
       "      <th>4789</th>\n",
       "      <td>9000</td>\n",
       "      <td>Villa</td>\n",
       "      <td>10</td>\n",
       "      <td>28.571875</td>\n",
       "      <td>77.264023</td>\n",
       "      <td>Maharani Bagh</td>\n",
       "      <td>South Delhi</td>\n",
       "      <td>Delhi</td>\n",
       "      <td>500000</td>\n",
       "      <td>Dinesh associates</td>\n",
       "      <td>0.549616</td>\n",
       "      <td>17.649010</td>\n",
       "      <td>5.528280</td>\n",
       "      <td>8.822775</td>\n",
       "    </tr>\n",
       "    <tr>\n",
       "      <th>9143</th>\n",
       "      <td>12000</td>\n",
       "      <td>Apartment</td>\n",
       "      <td>10</td>\n",
       "      <td>28.695364</td>\n",
       "      <td>77.153549</td>\n",
       "      <td>Pitampura</td>\n",
       "      <td>North Delhi</td>\n",
       "      <td>Delhi</td>\n",
       "      <td>450000</td>\n",
       "      <td>Sach Consultant</td>\n",
       "      <td>0.122005</td>\n",
       "      <td>16.962323</td>\n",
       "      <td>15.198109</td>\n",
       "      <td>8.857667</td>\n",
       "    </tr>\n",
       "    <tr>\n",
       "      <th>13867</th>\n",
       "      <td>15515</td>\n",
       "      <td>Villa</td>\n",
       "      <td>15</td>\n",
       "      <td>28.612860</td>\n",
       "      <td>77.229309</td>\n",
       "      <td>India Gate</td>\n",
       "      <td>Central Delhi</td>\n",
       "      <td>Delhi</td>\n",
       "      <td>4011010</td>\n",
       "      <td>B Kumar and Brothers</td>\n",
       "      <td>1.161003</td>\n",
       "      <td>15.539098</td>\n",
       "      <td>5.514984</td>\n",
       "      <td>3.305361</td>\n",
       "    </tr>\n",
       "    <tr>\n",
       "      <th>13868</th>\n",
       "      <td>16521</td>\n",
       "      <td>Independent House</td>\n",
       "      <td>10</td>\n",
       "      <td>28.620640</td>\n",
       "      <td>77.236961</td>\n",
       "      <td>Tilak Marg</td>\n",
       "      <td>Central Delhi</td>\n",
       "      <td>Delhi</td>\n",
       "      <td>3746419</td>\n",
       "      <td>B Kumar and Brothers</td>\n",
       "      <td>0.613982</td>\n",
       "      <td>16.583522</td>\n",
       "      <td>6.607508</td>\n",
       "      <td>2.824245</td>\n",
       "    </tr>\n",
       "    <tr>\n",
       "      <th>13972</th>\n",
       "      <td>15562</td>\n",
       "      <td>Independent House</td>\n",
       "      <td>12</td>\n",
       "      <td>28.602797</td>\n",
       "      <td>77.219681</td>\n",
       "      <td>Aurungzeb Road</td>\n",
       "      <td>Central Delhi</td>\n",
       "      <td>Delhi</td>\n",
       "      <td>5885646</td>\n",
       "      <td>B Kumar and Brothers</td>\n",
       "      <td>0.803119</td>\n",
       "      <td>14.234746</td>\n",
       "      <td>4.148746</td>\n",
       "      <td>4.312804</td>\n",
       "    </tr>\n",
       "    <tr>\n",
       "      <th>14000</th>\n",
       "      <td>11010</td>\n",
       "      <td>Villa</td>\n",
       "      <td>8</td>\n",
       "      <td>28.620640</td>\n",
       "      <td>77.236961</td>\n",
       "      <td>Tilak Marg</td>\n",
       "      <td>Central Delhi</td>\n",
       "      <td>Delhi</td>\n",
       "      <td>4010101</td>\n",
       "      <td>B Kumar and Brothers</td>\n",
       "      <td>0.613982</td>\n",
       "      <td>16.583522</td>\n",
       "      <td>6.607508</td>\n",
       "      <td>2.824245</td>\n",
       "    </tr>\n",
       "    <tr>\n",
       "      <th>14620</th>\n",
       "      <td>10000</td>\n",
       "      <td>Independent Floor</td>\n",
       "      <td>10</td>\n",
       "      <td>28.571428</td>\n",
       "      <td>77.070915</td>\n",
       "      <td>Sector-8 Dwarka</td>\n",
       "      <td>Other</td>\n",
       "      <td>Delhi</td>\n",
       "      <td>180000</td>\n",
       "      <td>MBA Group property interiors</td>\n",
       "      <td>0.640176</td>\n",
       "      <td>2.273567</td>\n",
       "      <td>13.402970</td>\n",
       "      <td>16.591315</td>\n",
       "    </tr>\n",
       "    <tr>\n",
       "      <th>14650</th>\n",
       "      <td>10800</td>\n",
       "      <td>Independent House</td>\n",
       "      <td>9</td>\n",
       "      <td>28.538687</td>\n",
       "      <td>77.248947</td>\n",
       "      <td>Chittaranjan Park</td>\n",
       "      <td>Other</td>\n",
       "      <td>Delhi</td>\n",
       "      <td>500000</td>\n",
       "      <td>Moneytree real estate consultants</td>\n",
       "      <td>0.791538</td>\n",
       "      <td>16.175938</td>\n",
       "      <td>5.094838</td>\n",
       "      <td>11.746476</td>\n",
       "    </tr>\n",
       "    <tr>\n",
       "      <th>14915</th>\n",
       "      <td>10000</td>\n",
       "      <td>Independent House</td>\n",
       "      <td>10</td>\n",
       "      <td>28.571428</td>\n",
       "      <td>77.070915</td>\n",
       "      <td>Sector-8 Dwarka</td>\n",
       "      <td>Other</td>\n",
       "      <td>Delhi</td>\n",
       "      <td>150000</td>\n",
       "      <td>MBA Group property interiors</td>\n",
       "      <td>0.640176</td>\n",
       "      <td>2.273567</td>\n",
       "      <td>13.402970</td>\n",
       "      <td>16.591315</td>\n",
       "    </tr>\n",
       "    <tr>\n",
       "      <th>16512</th>\n",
       "      <td>3000</td>\n",
       "      <td>Independent Floor</td>\n",
       "      <td>8</td>\n",
       "      <td>28.634933</td>\n",
       "      <td>77.179283</td>\n",
       "      <td>New Rajendra Nagar</td>\n",
       "      <td>Other</td>\n",
       "      <td>Delhi</td>\n",
       "      <td>12000</td>\n",
       "      <td>PG Nestaway</td>\n",
       "      <td>0.816011</td>\n",
       "      <td>12.818900</td>\n",
       "      <td>8.043799</td>\n",
       "      <td>4.118436</td>\n",
       "    </tr>\n",
       "    <tr>\n",
       "      <th>17087</th>\n",
       "      <td>7803</td>\n",
       "      <td>Independent House</td>\n",
       "      <td>9</td>\n",
       "      <td>28.601677</td>\n",
       "      <td>77.243378</td>\n",
       "      <td>Sundar Nagar</td>\n",
       "      <td>Other</td>\n",
       "      <td>Delhi</td>\n",
       "      <td>1400000</td>\n",
       "      <td>Moneytree real estate consultants</td>\n",
       "      <td>1.518015</td>\n",
       "      <td>16.368944</td>\n",
       "      <td>5.196060</td>\n",
       "      <td>4.959224</td>\n",
       "    </tr>\n",
       "  </tbody>\n",
       "</table>\n",
       "</div>"
      ],
      "text/plain": [
       "       size_sq_ft       propertyType  bedrooms   latitude  longitude  \\\n",
       "3352         4500  Independent House        10  28.567463  77.269135   \n",
       "3525         4050  Independent House        10  28.516312  77.154984   \n",
       "4340         4500  Independent House        10  28.574039  77.279091   \n",
       "4393         9000  Independent House        10  28.561720  77.251312   \n",
       "4394         4500  Independent House        10  28.558449  77.202934   \n",
       "4789         9000              Villa        10  28.571875  77.264023   \n",
       "9143        12000          Apartment        10  28.695364  77.153549   \n",
       "13867       15515              Villa        15  28.612860  77.229309   \n",
       "13868       16521  Independent House        10  28.620640  77.236961   \n",
       "13972       15562  Independent House        12  28.602797  77.219681   \n",
       "14000       11010              Villa         8  28.620640  77.236961   \n",
       "14620       10000  Independent Floor        10  28.571428  77.070915   \n",
       "14650       10800  Independent House         9  28.538687  77.248947   \n",
       "14915       10000  Independent House        10  28.571428  77.070915   \n",
       "16512        3000  Independent Floor         8  28.634933  77.179283   \n",
       "17087        7803  Independent House         9  28.601677  77.243378   \n",
       "\n",
       "             localityName     suburbName cityName    price  \\\n",
       "3352   New Friends Colony    South Delhi    Delhi   400000   \n",
       "3525          Vasant Kunj    South Delhi    Delhi   330000   \n",
       "4340   New Friends Colony    South Delhi    Delhi   350000   \n",
       "4393      East of Kailash    South Delhi    Delhi   350000   \n",
       "4394           Green Park    South Delhi    Delhi   400000   \n",
       "4789        Maharani Bagh    South Delhi    Delhi   500000   \n",
       "9143            Pitampura    North Delhi    Delhi   450000   \n",
       "13867          India Gate  Central Delhi    Delhi  4011010   \n",
       "13868          Tilak Marg  Central Delhi    Delhi  3746419   \n",
       "13972      Aurungzeb Road  Central Delhi    Delhi  5885646   \n",
       "14000          Tilak Marg  Central Delhi    Delhi  4010101   \n",
       "14620     Sector-8 Dwarka          Other    Delhi   180000   \n",
       "14650   Chittaranjan Park          Other    Delhi   500000   \n",
       "14915     Sector-8 Dwarka          Other    Delhi   150000   \n",
       "16512  New Rajendra Nagar          Other    Delhi    12000   \n",
       "17087        Sundar Nagar          Other    Delhi  1400000   \n",
       "\n",
       "                             companyName  closest_mtero_station_km  \\\n",
       "3352   Moneytree real estate consultants                  1.012889   \n",
       "3525   Moneytree real estate consultants                  1.990471   \n",
       "4340                   Dinesh associates                  1.534235   \n",
       "4393   Moneytree real estate consultants                  0.547800   \n",
       "4394   Moneytree real estate consultants                  0.358507   \n",
       "4789                   Dinesh associates                  0.549616   \n",
       "9143                     Sach Consultant                  0.122005   \n",
       "13867               B Kumar and Brothers                  1.161003   \n",
       "13868               B Kumar and Brothers                  0.613982   \n",
       "13972               B Kumar and Brothers                  0.803119   \n",
       "14000               B Kumar and Brothers                  0.613982   \n",
       "14620       MBA Group property interiors                  0.640176   \n",
       "14650  Moneytree real estate consultants                  0.791538   \n",
       "14915       MBA Group property interiors                  0.640176   \n",
       "16512                        PG Nestaway                  0.816011   \n",
       "17087  Moneytree real estate consultants                  1.518015   \n",
       "\n",
       "       AP_dist_km  Aiims_dist_km  NDRLW_dist_km  \n",
       "3352    18.102605       6.000900       9.493981  \n",
       "3525     8.101769       7.622883      15.311770  \n",
       "4340    19.140507       7.019701       9.425803  \n",
       "4393    16.323059       4.294829       9.356175  \n",
       "4394    11.578610       1.047019       9.388872  \n",
       "4789    17.649010       5.528280       8.822775  \n",
       "9143    16.962323      15.198109       8.857667  \n",
       "13867   15.539098       5.514984       3.305361  \n",
       "13868   16.583522       6.607508       2.824245  \n",
       "13972   14.234746       4.148746       4.312804  \n",
       "14000   16.583522       6.607508       2.824245  \n",
       "14620    2.273567      13.402970      16.591315  \n",
       "14650   16.175938       5.094838      11.746476  \n",
       "14915    2.273567      13.402970      16.591315  \n",
       "16512   12.818900       8.043799       4.118436  \n",
       "17087   16.368944       5.196060       4.959224  "
      ]
     },
     "execution_count": 16,
     "metadata": {},
     "output_type": "execute_result"
    }
   ],
   "source": [
    "df3[df3.bedrooms>7]"
   ]
  },
  {
   "cell_type": "code",
   "execution_count": 18,
   "metadata": {},
   "outputs": [
    {
     "data": {
      "text/html": [
       "<div>\n",
       "<style scoped>\n",
       "    .dataframe tbody tr th:only-of-type {\n",
       "        vertical-align: middle;\n",
       "    }\n",
       "\n",
       "    .dataframe tbody tr th {\n",
       "        vertical-align: top;\n",
       "    }\n",
       "\n",
       "    .dataframe thead th {\n",
       "        text-align: right;\n",
       "    }\n",
       "</style>\n",
       "<table border=\"1\" class=\"dataframe\">\n",
       "  <thead>\n",
       "    <tr style=\"text-align: right;\">\n",
       "      <th></th>\n",
       "      <th>size_sq_ft</th>\n",
       "      <th>propertyType</th>\n",
       "      <th>bedrooms</th>\n",
       "      <th>latitude</th>\n",
       "      <th>longitude</th>\n",
       "      <th>localityName</th>\n",
       "      <th>suburbName</th>\n",
       "      <th>cityName</th>\n",
       "      <th>price</th>\n",
       "      <th>companyName</th>\n",
       "      <th>closest_mtero_station_km</th>\n",
       "      <th>AP_dist_km</th>\n",
       "      <th>Aiims_dist_km</th>\n",
       "      <th>NDRLW_dist_km</th>\n",
       "      <th>price_per_sqft</th>\n",
       "    </tr>\n",
       "  </thead>\n",
       "  <tbody>\n",
       "    <tr>\n",
       "      <th>0</th>\n",
       "      <td>400</td>\n",
       "      <td>Independent Floor</td>\n",
       "      <td>1</td>\n",
       "      <td>28.641010</td>\n",
       "      <td>77.284386</td>\n",
       "      <td>Swasthya Vihar</td>\n",
       "      <td>East Delhi</td>\n",
       "      <td>Delhi</td>\n",
       "      <td>9000</td>\n",
       "      <td>Dream Homez</td>\n",
       "      <td>0.577495</td>\n",
       "      <td>21.741188</td>\n",
       "      <td>11.119239</td>\n",
       "      <td>6.227231</td>\n",
       "      <td>22.500000</td>\n",
       "    </tr>\n",
       "    <tr>\n",
       "      <th>1</th>\n",
       "      <td>1050</td>\n",
       "      <td>Apartment</td>\n",
       "      <td>2</td>\n",
       "      <td>28.594969</td>\n",
       "      <td>77.298668</td>\n",
       "      <td>mayur vihar phase 1</td>\n",
       "      <td>East Delhi</td>\n",
       "      <td>Delhi</td>\n",
       "      <td>20000</td>\n",
       "      <td>Rupak Properties Stock</td>\n",
       "      <td>0.417142</td>\n",
       "      <td>21.401856</td>\n",
       "      <td>9.419061</td>\n",
       "      <td>9.217502</td>\n",
       "      <td>19.047619</td>\n",
       "    </tr>\n",
       "    <tr>\n",
       "      <th>2</th>\n",
       "      <td>2250</td>\n",
       "      <td>Independent Floor</td>\n",
       "      <td>2</td>\n",
       "      <td>28.641806</td>\n",
       "      <td>77.293922</td>\n",
       "      <td>Swasthya Vihar</td>\n",
       "      <td>East Delhi</td>\n",
       "      <td>Delhi</td>\n",
       "      <td>28000</td>\n",
       "      <td>Aashiyana Real Estate</td>\n",
       "      <td>0.125136</td>\n",
       "      <td>22.620365</td>\n",
       "      <td>11.829486</td>\n",
       "      <td>7.159184</td>\n",
       "      <td>12.444444</td>\n",
       "    </tr>\n",
       "    <tr>\n",
       "      <th>3</th>\n",
       "      <td>1350</td>\n",
       "      <td>Independent Floor</td>\n",
       "      <td>2</td>\n",
       "      <td>28.644363</td>\n",
       "      <td>77.293228</td>\n",
       "      <td>Krishna Nagar</td>\n",
       "      <td>East Delhi</td>\n",
       "      <td>Delhi</td>\n",
       "      <td>28000</td>\n",
       "      <td>Shivam Real Estate</td>\n",
       "      <td>0.371709</td>\n",
       "      <td>22.681201</td>\n",
       "      <td>11.982708</td>\n",
       "      <td>7.097348</td>\n",
       "      <td>20.740741</td>\n",
       "    </tr>\n",
       "    <tr>\n",
       "      <th>4</th>\n",
       "      <td>450</td>\n",
       "      <td>Apartment</td>\n",
       "      <td>2</td>\n",
       "      <td>28.594736</td>\n",
       "      <td>77.311150</td>\n",
       "      <td>New Ashok Nagar</td>\n",
       "      <td>East Delhi</td>\n",
       "      <td>Delhi</td>\n",
       "      <td>12500</td>\n",
       "      <td>Shree Properties</td>\n",
       "      <td>1.087760</td>\n",
       "      <td>22.592810</td>\n",
       "      <td>10.571573</td>\n",
       "      <td>10.263271</td>\n",
       "      <td>27.777778</td>\n",
       "    </tr>\n",
       "  </tbody>\n",
       "</table>\n",
       "</div>"
      ],
      "text/plain": [
       "   size_sq_ft       propertyType  bedrooms   latitude  longitude  \\\n",
       "0         400  Independent Floor         1  28.641010  77.284386   \n",
       "1        1050          Apartment         2  28.594969  77.298668   \n",
       "2        2250  Independent Floor         2  28.641806  77.293922   \n",
       "3        1350  Independent Floor         2  28.644363  77.293228   \n",
       "4         450          Apartment         2  28.594736  77.311150   \n",
       "\n",
       "          localityName  suburbName cityName  price             companyName  \\\n",
       "0       Swasthya Vihar  East Delhi    Delhi   9000             Dream Homez   \n",
       "1  mayur vihar phase 1  East Delhi    Delhi  20000  Rupak Properties Stock   \n",
       "2       Swasthya Vihar  East Delhi    Delhi  28000   Aashiyana Real Estate   \n",
       "3        Krishna Nagar  East Delhi    Delhi  28000      Shivam Real Estate   \n",
       "4      New Ashok Nagar  East Delhi    Delhi  12500        Shree Properties   \n",
       "\n",
       "   closest_mtero_station_km  AP_dist_km  Aiims_dist_km  NDRLW_dist_km  \\\n",
       "0                  0.577495   21.741188      11.119239       6.227231   \n",
       "1                  0.417142   21.401856       9.419061       9.217502   \n",
       "2                  0.125136   22.620365      11.829486       7.159184   \n",
       "3                  0.371709   22.681201      11.982708       7.097348   \n",
       "4                  1.087760   22.592810      10.571573      10.263271   \n",
       "\n",
       "   price_per_sqft  \n",
       "0       22.500000  \n",
       "1       19.047619  \n",
       "2       12.444444  \n",
       "3       20.740741  \n",
       "4       27.777778  "
      ]
     },
     "execution_count": 18,
     "metadata": {},
     "output_type": "execute_result"
    }
   ],
   "source": [
    "df4 = df3.copy()\n",
    "df4['price_per_sqft'] = df4['price']/df3['size_sq_ft']\n",
    "df4.head()"
   ]
  },
  {
   "cell_type": "code",
   "execution_count": 19,
   "metadata": {},
   "outputs": [
    {
     "data": {
      "text/html": [
       "<div>\n",
       "<style scoped>\n",
       "    .dataframe tbody tr th:only-of-type {\n",
       "        vertical-align: middle;\n",
       "    }\n",
       "\n",
       "    .dataframe tbody tr th {\n",
       "        vertical-align: top;\n",
       "    }\n",
       "\n",
       "    .dataframe thead th {\n",
       "        text-align: right;\n",
       "    }\n",
       "</style>\n",
       "<table border=\"1\" class=\"dataframe\">\n",
       "  <thead>\n",
       "    <tr style=\"text-align: right;\">\n",
       "      <th></th>\n",
       "      <th>size_sq_ft</th>\n",
       "      <th>propertyType</th>\n",
       "      <th>bedrooms</th>\n",
       "      <th>localityName</th>\n",
       "      <th>price</th>\n",
       "      <th>closest_mtero_station_km</th>\n",
       "      <th>AP_dist_km</th>\n",
       "      <th>Aiims_dist_km</th>\n",
       "      <th>NDRLW_dist_km</th>\n",
       "      <th>price_per_sqft</th>\n",
       "    </tr>\n",
       "  </thead>\n",
       "  <tbody>\n",
       "    <tr>\n",
       "      <th>0</th>\n",
       "      <td>400</td>\n",
       "      <td>Independent Floor</td>\n",
       "      <td>1</td>\n",
       "      <td>Swasthya Vihar</td>\n",
       "      <td>9000</td>\n",
       "      <td>0.577495</td>\n",
       "      <td>21.741188</td>\n",
       "      <td>11.119239</td>\n",
       "      <td>6.227231</td>\n",
       "      <td>22.500000</td>\n",
       "    </tr>\n",
       "    <tr>\n",
       "      <th>1</th>\n",
       "      <td>1050</td>\n",
       "      <td>Apartment</td>\n",
       "      <td>2</td>\n",
       "      <td>mayur vihar phase 1</td>\n",
       "      <td>20000</td>\n",
       "      <td>0.417142</td>\n",
       "      <td>21.401856</td>\n",
       "      <td>9.419061</td>\n",
       "      <td>9.217502</td>\n",
       "      <td>19.047619</td>\n",
       "    </tr>\n",
       "    <tr>\n",
       "      <th>2</th>\n",
       "      <td>2250</td>\n",
       "      <td>Independent Floor</td>\n",
       "      <td>2</td>\n",
       "      <td>Swasthya Vihar</td>\n",
       "      <td>28000</td>\n",
       "      <td>0.125136</td>\n",
       "      <td>22.620365</td>\n",
       "      <td>11.829486</td>\n",
       "      <td>7.159184</td>\n",
       "      <td>12.444444</td>\n",
       "    </tr>\n",
       "    <tr>\n",
       "      <th>3</th>\n",
       "      <td>1350</td>\n",
       "      <td>Independent Floor</td>\n",
       "      <td>2</td>\n",
       "      <td>Krishna Nagar</td>\n",
       "      <td>28000</td>\n",
       "      <td>0.371709</td>\n",
       "      <td>22.681201</td>\n",
       "      <td>11.982708</td>\n",
       "      <td>7.097348</td>\n",
       "      <td>20.740741</td>\n",
       "    </tr>\n",
       "    <tr>\n",
       "      <th>4</th>\n",
       "      <td>450</td>\n",
       "      <td>Apartment</td>\n",
       "      <td>2</td>\n",
       "      <td>New Ashok Nagar</td>\n",
       "      <td>12500</td>\n",
       "      <td>1.087760</td>\n",
       "      <td>22.592810</td>\n",
       "      <td>10.571573</td>\n",
       "      <td>10.263271</td>\n",
       "      <td>27.777778</td>\n",
       "    </tr>\n",
       "  </tbody>\n",
       "</table>\n",
       "</div>"
      ],
      "text/plain": [
       "   size_sq_ft       propertyType  bedrooms         localityName  price  \\\n",
       "0         400  Independent Floor         1       Swasthya Vihar   9000   \n",
       "1        1050          Apartment         2  mayur vihar phase 1  20000   \n",
       "2        2250  Independent Floor         2       Swasthya Vihar  28000   \n",
       "3        1350  Independent Floor         2        Krishna Nagar  28000   \n",
       "4         450          Apartment         2      New Ashok Nagar  12500   \n",
       "\n",
       "   closest_mtero_station_km  AP_dist_km  Aiims_dist_km  NDRLW_dist_km  \\\n",
       "0                  0.577495   21.741188      11.119239       6.227231   \n",
       "1                  0.417142   21.401856       9.419061       9.217502   \n",
       "2                  0.125136   22.620365      11.829486       7.159184   \n",
       "3                  0.371709   22.681201      11.982708       7.097348   \n",
       "4                  1.087760   22.592810      10.571573      10.263271   \n",
       "\n",
       "   price_per_sqft  \n",
       "0       22.500000  \n",
       "1       19.047619  \n",
       "2       12.444444  \n",
       "3       20.740741  \n",
       "4       27.777778  "
      ]
     },
     "execution_count": 19,
     "metadata": {},
     "output_type": "execute_result"
    }
   ],
   "source": [
    "df5 = df4.drop(['latitude','longitude','cityName','companyName','suburbName'], axis='columns')\n",
    "df5.head()"
   ]
  },
  {
   "cell_type": "code",
   "execution_count": 20,
   "metadata": {},
   "outputs": [
    {
     "data": {
      "text/html": [
       "<div>\n",
       "<style scoped>\n",
       "    .dataframe tbody tr th:only-of-type {\n",
       "        vertical-align: middle;\n",
       "    }\n",
       "\n",
       "    .dataframe tbody tr th {\n",
       "        vertical-align: top;\n",
       "    }\n",
       "\n",
       "    .dataframe thead th {\n",
       "        text-align: right;\n",
       "    }\n",
       "</style>\n",
       "<table border=\"1\" class=\"dataframe\">\n",
       "  <thead>\n",
       "    <tr style=\"text-align: right;\">\n",
       "      <th></th>\n",
       "      <th>size_sq_ft</th>\n",
       "      <th>bedrooms</th>\n",
       "      <th>price</th>\n",
       "      <th>closest_mtero_station_km</th>\n",
       "      <th>AP_dist_km</th>\n",
       "      <th>Aiims_dist_km</th>\n",
       "      <th>NDRLW_dist_km</th>\n",
       "      <th>price_per_sqft</th>\n",
       "    </tr>\n",
       "  </thead>\n",
       "  <tbody>\n",
       "    <tr>\n",
       "      <th>count</th>\n",
       "      <td>17890.000000</td>\n",
       "      <td>17890.000000</td>\n",
       "      <td>1.789000e+04</td>\n",
       "      <td>17890.000000</td>\n",
       "      <td>17890.000000</td>\n",
       "      <td>17890.000000</td>\n",
       "      <td>17890.000000</td>\n",
       "      <td>17890.000000</td>\n",
       "    </tr>\n",
       "    <tr>\n",
       "      <th>mean</th>\n",
       "      <td>1176.342091</td>\n",
       "      <td>2.168865</td>\n",
       "      <td>3.345196e+04</td>\n",
       "      <td>0.931495</td>\n",
       "      <td>13.727784</td>\n",
       "      <td>11.238134</td>\n",
       "      <td>11.421994</td>\n",
       "      <td>26.338014</td>\n",
       "    </tr>\n",
       "    <tr>\n",
       "      <th>std</th>\n",
       "      <td>873.751044</td>\n",
       "      <td>0.971414</td>\n",
       "      <td>8.802054e+04</td>\n",
       "      <td>8.287856</td>\n",
       "      <td>11.357063</td>\n",
       "      <td>11.167202</td>\n",
       "      <td>11.063323</td>\n",
       "      <td>18.787152</td>\n",
       "    </tr>\n",
       "    <tr>\n",
       "      <th>min</th>\n",
       "      <td>100.000000</td>\n",
       "      <td>1.000000</td>\n",
       "      <td>1.200000e+03</td>\n",
       "      <td>0.000692</td>\n",
       "      <td>1.784779</td>\n",
       "      <td>0.634508</td>\n",
       "      <td>0.722023</td>\n",
       "      <td>2.608696</td>\n",
       "    </tr>\n",
       "    <tr>\n",
       "      <th>25%</th>\n",
       "      <td>620.000000</td>\n",
       "      <td>1.000000</td>\n",
       "      <td>1.350000e+04</td>\n",
       "      <td>0.457782</td>\n",
       "      <td>11.018715</td>\n",
       "      <td>7.769267</td>\n",
       "      <td>7.986813</td>\n",
       "      <td>17.777778</td>\n",
       "    </tr>\n",
       "    <tr>\n",
       "      <th>50%</th>\n",
       "      <td>900.000000</td>\n",
       "      <td>2.000000</td>\n",
       "      <td>2.200000e+04</td>\n",
       "      <td>0.698560</td>\n",
       "      <td>13.184035</td>\n",
       "      <td>10.515524</td>\n",
       "      <td>11.015571</td>\n",
       "      <td>22.222222</td>\n",
       "    </tr>\n",
       "    <tr>\n",
       "      <th>75%</th>\n",
       "      <td>1600.000000</td>\n",
       "      <td>3.000000</td>\n",
       "      <td>3.500000e+04</td>\n",
       "      <td>1.087740</td>\n",
       "      <td>17.163502</td>\n",
       "      <td>15.514042</td>\n",
       "      <td>15.192483</td>\n",
       "      <td>29.411765</td>\n",
       "    </tr>\n",
       "    <tr>\n",
       "      <th>max</th>\n",
       "      <td>16521.000000</td>\n",
       "      <td>15.000000</td>\n",
       "      <td>5.885646e+06</td>\n",
       "      <td>1096.479453</td>\n",
       "      <td>1109.894053</td>\n",
       "      <td>1115.621439</td>\n",
       "      <td>1123.778457</td>\n",
       "      <td>400.000000</td>\n",
       "    </tr>\n",
       "  </tbody>\n",
       "</table>\n",
       "</div>"
      ],
      "text/plain": [
       "         size_sq_ft      bedrooms         price  closest_mtero_station_km  \\\n",
       "count  17890.000000  17890.000000  1.789000e+04              17890.000000   \n",
       "mean    1176.342091      2.168865  3.345196e+04                  0.931495   \n",
       "std      873.751044      0.971414  8.802054e+04                  8.287856   \n",
       "min      100.000000      1.000000  1.200000e+03                  0.000692   \n",
       "25%      620.000000      1.000000  1.350000e+04                  0.457782   \n",
       "50%      900.000000      2.000000  2.200000e+04                  0.698560   \n",
       "75%     1600.000000      3.000000  3.500000e+04                  1.087740   \n",
       "max    16521.000000     15.000000  5.885646e+06               1096.479453   \n",
       "\n",
       "         AP_dist_km  Aiims_dist_km  NDRLW_dist_km  price_per_sqft  \n",
       "count  17890.000000   17890.000000   17890.000000    17890.000000  \n",
       "mean      13.727784      11.238134      11.421994       26.338014  \n",
       "std       11.357063      11.167202      11.063323       18.787152  \n",
       "min        1.784779       0.634508       0.722023        2.608696  \n",
       "25%       11.018715       7.769267       7.986813       17.777778  \n",
       "50%       13.184035      10.515524      11.015571       22.222222  \n",
       "75%       17.163502      15.514042      15.192483       29.411765  \n",
       "max     1109.894053    1115.621439    1123.778457      400.000000  "
      ]
     },
     "execution_count": 20,
     "metadata": {},
     "output_type": "execute_result"
    }
   ],
   "source": [
    "df5.describe()"
   ]
  },
  {
   "cell_type": "code",
   "execution_count": 21,
   "metadata": {},
   "outputs": [
    {
     "data": {
      "text/html": [
       "<div>\n",
       "<style scoped>\n",
       "    .dataframe tbody tr th:only-of-type {\n",
       "        vertical-align: middle;\n",
       "    }\n",
       "\n",
       "    .dataframe tbody tr th {\n",
       "        vertical-align: top;\n",
       "    }\n",
       "\n",
       "    .dataframe thead th {\n",
       "        text-align: right;\n",
       "    }\n",
       "</style>\n",
       "<table border=\"1\" class=\"dataframe\">\n",
       "  <thead>\n",
       "    <tr style=\"text-align: right;\">\n",
       "      <th></th>\n",
       "      <th>size_sq_ft</th>\n",
       "      <th>propertyType</th>\n",
       "      <th>bedrooms</th>\n",
       "      <th>localityName</th>\n",
       "      <th>price</th>\n",
       "      <th>closest_mtero_station_km</th>\n",
       "      <th>AP_dist_km</th>\n",
       "      <th>Aiims_dist_km</th>\n",
       "      <th>NDRLW_dist_km</th>\n",
       "      <th>price_per_sqft</th>\n",
       "    </tr>\n",
       "  </thead>\n",
       "  <tbody>\n",
       "    <tr>\n",
       "      <th>8917</th>\n",
       "      <td>220</td>\n",
       "      <td>Independent Floor</td>\n",
       "      <td>1</td>\n",
       "      <td>Dr Mukherji Nagar</td>\n",
       "      <td>1200</td>\n",
       "      <td>0.425452</td>\n",
       "      <td>20.308545</td>\n",
       "      <td>14.914225</td>\n",
       "      <td>6.710688</td>\n",
       "      <td>5.454545</td>\n",
       "    </tr>\n",
       "  </tbody>\n",
       "</table>\n",
       "</div>"
      ],
      "text/plain": [
       "      size_sq_ft       propertyType  bedrooms       localityName  price  \\\n",
       "8917         220  Independent Floor         1  Dr Mukherji Nagar   1200   \n",
       "\n",
       "      closest_mtero_station_km  AP_dist_km  Aiims_dist_km  NDRLW_dist_km  \\\n",
       "8917                  0.425452   20.308545      14.914225       6.710688   \n",
       "\n",
       "      price_per_sqft  \n",
       "8917        5.454545  "
      ]
     },
     "execution_count": 21,
     "metadata": {},
     "output_type": "execute_result"
    }
   ],
   "source": [
    "df5[df5.price<1500]"
   ]
  },
  {
   "cell_type": "code",
   "execution_count": 22,
   "metadata": {},
   "outputs": [
    {
     "data": {
      "text/plain": [
       "localityName\n",
       "Patel Nagar              1448\n",
       "Paschim Vihar             949\n",
       "Chattarpur                826\n",
       "Pitampura                 609\n",
       "mayur vihar phase 1       523\n",
       "                         ... \n",
       "Sector-D Vasant Kunj        1\n",
       "Pocket 7 Sector D           1\n",
       "Shanti Kunj Main Road       1\n",
       "Pocket 9 Sector B           1\n",
       "Jhandewalan                 1\n",
       "Name: count, Length: 781, dtype: int64"
      ]
     },
     "execution_count": 22,
     "metadata": {},
     "output_type": "execute_result"
    }
   ],
   "source": [
    "locality_count = df5['localityName'].value_counts()\n",
    "locality_count"
   ]
  },
  {
   "cell_type": "code",
   "execution_count": 24,
   "metadata": {},
   "outputs": [
    {
     "data": {
      "text/plain": [
       "522"
      ]
     },
     "execution_count": 24,
     "metadata": {},
     "output_type": "execute_result"
    }
   ],
   "source": [
    "len(locality_count[locality_count<=5])"
   ]
  },
  {
   "cell_type": "code",
   "execution_count": 25,
   "metadata": {},
   "outputs": [
    {
     "data": {
      "text/plain": [
       "localityName\n",
       "Shiksha Bharti School Road    5\n",
       "Pitampura near NSP            5\n",
       "Hastsal                       5\n",
       "Bahapur                       5\n",
       "Mahipalpur Extention          5\n",
       "                             ..\n",
       "Sector-D Vasant Kunj          1\n",
       "Pocket 7 Sector D             1\n",
       "Shanti Kunj Main Road         1\n",
       "Pocket 9 Sector B             1\n",
       "Jhandewalan                   1\n",
       "Name: count, Length: 522, dtype: int64"
      ]
     },
     "execution_count": 25,
     "metadata": {},
     "output_type": "execute_result"
    }
   ],
   "source": [
    "locality_count_less_than_5 = locality_count[locality_count<=5]\n",
    "locality_count_less_than_5"
   ]
  },
  {
   "cell_type": "code",
   "execution_count": 26,
   "metadata": {},
   "outputs": [
    {
     "data": {
      "text/plain": [
       "localityName\n",
       "Patel Nagar                  1448\n",
       "other                         980\n",
       "Paschim Vihar                 949\n",
       "Chattarpur                    826\n",
       "Pitampura                     609\n",
       "                             ... \n",
       "A 2 Block                       6\n",
       "Sector 24 Rohini                6\n",
       "Mandawali                       6\n",
       "Pitampura KP Block              6\n",
       "Block AP Poorvi Pitampura       6\n",
       "Name: count, Length: 260, dtype: int64"
      ]
     },
     "execution_count": 26,
     "metadata": {},
     "output_type": "execute_result"
    }
   ],
   "source": [
    "df5['localityName'] = df5['localityName'].apply(lambda x: 'other' if x in locality_count_less_than_5 else x)\n",
    "df5['localityName'].value_counts()"
   ]
  },
  {
   "cell_type": "code",
   "execution_count": 27,
   "metadata": {},
   "outputs": [
    {
     "data": {
      "text/html": [
       "<div>\n",
       "<style scoped>\n",
       "    .dataframe tbody tr th:only-of-type {\n",
       "        vertical-align: middle;\n",
       "    }\n",
       "\n",
       "    .dataframe tbody tr th {\n",
       "        vertical-align: top;\n",
       "    }\n",
       "\n",
       "    .dataframe thead th {\n",
       "        text-align: right;\n",
       "    }\n",
       "</style>\n",
       "<table border=\"1\" class=\"dataframe\">\n",
       "  <thead>\n",
       "    <tr style=\"text-align: right;\">\n",
       "      <th></th>\n",
       "      <th>size_sq_ft</th>\n",
       "      <th>propertyType</th>\n",
       "      <th>bedrooms</th>\n",
       "      <th>localityName</th>\n",
       "      <th>price</th>\n",
       "      <th>closest_mtero_station_km</th>\n",
       "      <th>AP_dist_km</th>\n",
       "      <th>Aiims_dist_km</th>\n",
       "      <th>NDRLW_dist_km</th>\n",
       "      <th>price_per_sqft</th>\n",
       "    </tr>\n",
       "  </thead>\n",
       "  <tbody>\n",
       "    <tr>\n",
       "      <th>0</th>\n",
       "      <td>400</td>\n",
       "      <td>Independent Floor</td>\n",
       "      <td>1</td>\n",
       "      <td>Swasthya Vihar</td>\n",
       "      <td>9000</td>\n",
       "      <td>0.577495</td>\n",
       "      <td>21.741188</td>\n",
       "      <td>11.119239</td>\n",
       "      <td>6.227231</td>\n",
       "      <td>22.500000</td>\n",
       "    </tr>\n",
       "    <tr>\n",
       "      <th>1</th>\n",
       "      <td>1050</td>\n",
       "      <td>Apartment</td>\n",
       "      <td>2</td>\n",
       "      <td>mayur vihar phase 1</td>\n",
       "      <td>20000</td>\n",
       "      <td>0.417142</td>\n",
       "      <td>21.401856</td>\n",
       "      <td>9.419061</td>\n",
       "      <td>9.217502</td>\n",
       "      <td>19.047619</td>\n",
       "    </tr>\n",
       "    <tr>\n",
       "      <th>2</th>\n",
       "      <td>2250</td>\n",
       "      <td>Independent Floor</td>\n",
       "      <td>2</td>\n",
       "      <td>Swasthya Vihar</td>\n",
       "      <td>28000</td>\n",
       "      <td>0.125136</td>\n",
       "      <td>22.620365</td>\n",
       "      <td>11.829486</td>\n",
       "      <td>7.159184</td>\n",
       "      <td>12.444444</td>\n",
       "    </tr>\n",
       "    <tr>\n",
       "      <th>3</th>\n",
       "      <td>1350</td>\n",
       "      <td>Independent Floor</td>\n",
       "      <td>2</td>\n",
       "      <td>Krishna Nagar</td>\n",
       "      <td>28000</td>\n",
       "      <td>0.371709</td>\n",
       "      <td>22.681201</td>\n",
       "      <td>11.982708</td>\n",
       "      <td>7.097348</td>\n",
       "      <td>20.740741</td>\n",
       "    </tr>\n",
       "    <tr>\n",
       "      <th>4</th>\n",
       "      <td>450</td>\n",
       "      <td>Apartment</td>\n",
       "      <td>2</td>\n",
       "      <td>New Ashok Nagar</td>\n",
       "      <td>12500</td>\n",
       "      <td>1.087760</td>\n",
       "      <td>22.592810</td>\n",
       "      <td>10.571573</td>\n",
       "      <td>10.263271</td>\n",
       "      <td>27.777778</td>\n",
       "    </tr>\n",
       "  </tbody>\n",
       "</table>\n",
       "</div>"
      ],
      "text/plain": [
       "   size_sq_ft       propertyType  bedrooms         localityName  price  \\\n",
       "0         400  Independent Floor         1       Swasthya Vihar   9000   \n",
       "1        1050          Apartment         2  mayur vihar phase 1  20000   \n",
       "2        2250  Independent Floor         2       Swasthya Vihar  28000   \n",
       "3        1350  Independent Floor         2        Krishna Nagar  28000   \n",
       "4         450          Apartment         2      New Ashok Nagar  12500   \n",
       "\n",
       "   closest_mtero_station_km  AP_dist_km  Aiims_dist_km  NDRLW_dist_km  \\\n",
       "0                  0.577495   21.741188      11.119239       6.227231   \n",
       "1                  0.417142   21.401856       9.419061       9.217502   \n",
       "2                  0.125136   22.620365      11.829486       7.159184   \n",
       "3                  0.371709   22.681201      11.982708       7.097348   \n",
       "4                  1.087760   22.592810      10.571573      10.263271   \n",
       "\n",
       "   price_per_sqft  \n",
       "0       22.500000  \n",
       "1       19.047619  \n",
       "2       12.444444  \n",
       "3       20.740741  \n",
       "4       27.777778  "
      ]
     },
     "execution_count": 27,
     "metadata": {},
     "output_type": "execute_result"
    }
   ],
   "source": [
    "df5.head()"
   ]
  },
  {
   "cell_type": "code",
   "execution_count": 28,
   "metadata": {},
   "outputs": [
    {
     "data": {
      "text/html": [
       "<div>\n",
       "<style scoped>\n",
       "    .dataframe tbody tr th:only-of-type {\n",
       "        vertical-align: middle;\n",
       "    }\n",
       "\n",
       "    .dataframe tbody tr th {\n",
       "        vertical-align: top;\n",
       "    }\n",
       "\n",
       "    .dataframe thead th {\n",
       "        text-align: right;\n",
       "    }\n",
       "</style>\n",
       "<table border=\"1\" class=\"dataframe\">\n",
       "  <thead>\n",
       "    <tr style=\"text-align: right;\">\n",
       "      <th></th>\n",
       "      <th>72 Sector 23 Road</th>\n",
       "      <th>944 B Block Road</th>\n",
       "      <th>A 2 Block</th>\n",
       "      <th>A1 Block Paschim Vihar Delhi</th>\n",
       "      <th>A4 Block Paschim Vihar</th>\n",
       "      <th>AGCR Enclave</th>\n",
       "      <th>Abul Fazal Enclave Jamia Nagar</th>\n",
       "      <th>Adchini</th>\n",
       "      <th>Alaknanda</th>\n",
       "      <th>Amar colony</th>\n",
       "      <th>...</th>\n",
       "      <th>dwarka sector 17</th>\n",
       "      <th>greater kailash Enclave 1</th>\n",
       "      <th>i p extension patparganj</th>\n",
       "      <th>laxmi nagar</th>\n",
       "      <th>laxmi nagar near metro station</th>\n",
       "      <th>mayur vihar phase 1</th>\n",
       "      <th>nawada</th>\n",
       "      <th>other</th>\n",
       "      <th>rohini sector 5</th>\n",
       "      <th>vikaspuri</th>\n",
       "    </tr>\n",
       "  </thead>\n",
       "  <tbody>\n",
       "    <tr>\n",
       "      <th>0</th>\n",
       "      <td>0</td>\n",
       "      <td>0</td>\n",
       "      <td>0</td>\n",
       "      <td>0</td>\n",
       "      <td>0</td>\n",
       "      <td>0</td>\n",
       "      <td>0</td>\n",
       "      <td>0</td>\n",
       "      <td>0</td>\n",
       "      <td>0</td>\n",
       "      <td>...</td>\n",
       "      <td>0</td>\n",
       "      <td>0</td>\n",
       "      <td>0</td>\n",
       "      <td>0</td>\n",
       "      <td>0</td>\n",
       "      <td>0</td>\n",
       "      <td>0</td>\n",
       "      <td>0</td>\n",
       "      <td>0</td>\n",
       "      <td>0</td>\n",
       "    </tr>\n",
       "    <tr>\n",
       "      <th>1</th>\n",
       "      <td>0</td>\n",
       "      <td>0</td>\n",
       "      <td>0</td>\n",
       "      <td>0</td>\n",
       "      <td>0</td>\n",
       "      <td>0</td>\n",
       "      <td>0</td>\n",
       "      <td>0</td>\n",
       "      <td>0</td>\n",
       "      <td>0</td>\n",
       "      <td>...</td>\n",
       "      <td>0</td>\n",
       "      <td>0</td>\n",
       "      <td>0</td>\n",
       "      <td>0</td>\n",
       "      <td>0</td>\n",
       "      <td>1</td>\n",
       "      <td>0</td>\n",
       "      <td>0</td>\n",
       "      <td>0</td>\n",
       "      <td>0</td>\n",
       "    </tr>\n",
       "    <tr>\n",
       "      <th>2</th>\n",
       "      <td>0</td>\n",
       "      <td>0</td>\n",
       "      <td>0</td>\n",
       "      <td>0</td>\n",
       "      <td>0</td>\n",
       "      <td>0</td>\n",
       "      <td>0</td>\n",
       "      <td>0</td>\n",
       "      <td>0</td>\n",
       "      <td>0</td>\n",
       "      <td>...</td>\n",
       "      <td>0</td>\n",
       "      <td>0</td>\n",
       "      <td>0</td>\n",
       "      <td>0</td>\n",
       "      <td>0</td>\n",
       "      <td>0</td>\n",
       "      <td>0</td>\n",
       "      <td>0</td>\n",
       "      <td>0</td>\n",
       "      <td>0</td>\n",
       "    </tr>\n",
       "    <tr>\n",
       "      <th>3</th>\n",
       "      <td>0</td>\n",
       "      <td>0</td>\n",
       "      <td>0</td>\n",
       "      <td>0</td>\n",
       "      <td>0</td>\n",
       "      <td>0</td>\n",
       "      <td>0</td>\n",
       "      <td>0</td>\n",
       "      <td>0</td>\n",
       "      <td>0</td>\n",
       "      <td>...</td>\n",
       "      <td>0</td>\n",
       "      <td>0</td>\n",
       "      <td>0</td>\n",
       "      <td>0</td>\n",
       "      <td>0</td>\n",
       "      <td>0</td>\n",
       "      <td>0</td>\n",
       "      <td>0</td>\n",
       "      <td>0</td>\n",
       "      <td>0</td>\n",
       "    </tr>\n",
       "    <tr>\n",
       "      <th>4</th>\n",
       "      <td>0</td>\n",
       "      <td>0</td>\n",
       "      <td>0</td>\n",
       "      <td>0</td>\n",
       "      <td>0</td>\n",
       "      <td>0</td>\n",
       "      <td>0</td>\n",
       "      <td>0</td>\n",
       "      <td>0</td>\n",
       "      <td>0</td>\n",
       "      <td>...</td>\n",
       "      <td>0</td>\n",
       "      <td>0</td>\n",
       "      <td>0</td>\n",
       "      <td>0</td>\n",
       "      <td>0</td>\n",
       "      <td>0</td>\n",
       "      <td>0</td>\n",
       "      <td>0</td>\n",
       "      <td>0</td>\n",
       "      <td>0</td>\n",
       "    </tr>\n",
       "  </tbody>\n",
       "</table>\n",
       "<p>5 rows × 260 columns</p>\n",
       "</div>"
      ],
      "text/plain": [
       "   72 Sector 23 Road  944 B Block Road  A 2 Block  \\\n",
       "0                  0                 0          0   \n",
       "1                  0                 0          0   \n",
       "2                  0                 0          0   \n",
       "3                  0                 0          0   \n",
       "4                  0                 0          0   \n",
       "\n",
       "   A1 Block Paschim Vihar Delhi  A4 Block Paschim Vihar  AGCR Enclave  \\\n",
       "0                             0                       0             0   \n",
       "1                             0                       0             0   \n",
       "2                             0                       0             0   \n",
       "3                             0                       0             0   \n",
       "4                             0                       0             0   \n",
       "\n",
       "   Abul Fazal Enclave Jamia Nagar  Adchini  Alaknanda  Amar colony  ...  \\\n",
       "0                               0        0          0            0  ...   \n",
       "1                               0        0          0            0  ...   \n",
       "2                               0        0          0            0  ...   \n",
       "3                               0        0          0            0  ...   \n",
       "4                               0        0          0            0  ...   \n",
       "\n",
       "   dwarka sector 17  greater kailash Enclave 1  i p extension patparganj  \\\n",
       "0                 0                          0                         0   \n",
       "1                 0                          0                         0   \n",
       "2                 0                          0                         0   \n",
       "3                 0                          0                         0   \n",
       "4                 0                          0                         0   \n",
       "\n",
       "   laxmi nagar  laxmi nagar near metro station  mayur vihar phase 1  nawada  \\\n",
       "0            0                               0                    0       0   \n",
       "1            0                               0                    1       0   \n",
       "2            0                               0                    0       0   \n",
       "3            0                               0                    0       0   \n",
       "4            0                               0                    0       0   \n",
       "\n",
       "   other  rohini sector 5  vikaspuri  \n",
       "0      0                0          0  \n",
       "1      0                0          0  \n",
       "2      0                0          0  \n",
       "3      0                0          0  \n",
       "4      0                0          0  \n",
       "\n",
       "[5 rows x 260 columns]"
      ]
     },
     "execution_count": 28,
     "metadata": {},
     "output_type": "execute_result"
    }
   ],
   "source": [
    "locality_dummy = pd.get_dummies(df5.localityName, dtype=int)\n",
    "locality_dummy.head()"
   ]
  },
  {
   "cell_type": "code",
   "execution_count": 29,
   "metadata": {},
   "outputs": [
    {
     "data": {
      "text/html": [
       "<div>\n",
       "<style scoped>\n",
       "    .dataframe tbody tr th:only-of-type {\n",
       "        vertical-align: middle;\n",
       "    }\n",
       "\n",
       "    .dataframe tbody tr th {\n",
       "        vertical-align: top;\n",
       "    }\n",
       "\n",
       "    .dataframe thead th {\n",
       "        text-align: right;\n",
       "    }\n",
       "</style>\n",
       "<table border=\"1\" class=\"dataframe\">\n",
       "  <thead>\n",
       "    <tr style=\"text-align: right;\">\n",
       "      <th></th>\n",
       "      <th>Apartment</th>\n",
       "      <th>Independent Floor</th>\n",
       "      <th>Independent House</th>\n",
       "      <th>Villa</th>\n",
       "    </tr>\n",
       "  </thead>\n",
       "  <tbody>\n",
       "    <tr>\n",
       "      <th>0</th>\n",
       "      <td>0</td>\n",
       "      <td>1</td>\n",
       "      <td>0</td>\n",
       "      <td>0</td>\n",
       "    </tr>\n",
       "    <tr>\n",
       "      <th>1</th>\n",
       "      <td>1</td>\n",
       "      <td>0</td>\n",
       "      <td>0</td>\n",
       "      <td>0</td>\n",
       "    </tr>\n",
       "    <tr>\n",
       "      <th>2</th>\n",
       "      <td>0</td>\n",
       "      <td>1</td>\n",
       "      <td>0</td>\n",
       "      <td>0</td>\n",
       "    </tr>\n",
       "    <tr>\n",
       "      <th>3</th>\n",
       "      <td>0</td>\n",
       "      <td>1</td>\n",
       "      <td>0</td>\n",
       "      <td>0</td>\n",
       "    </tr>\n",
       "    <tr>\n",
       "      <th>4</th>\n",
       "      <td>1</td>\n",
       "      <td>0</td>\n",
       "      <td>0</td>\n",
       "      <td>0</td>\n",
       "    </tr>\n",
       "  </tbody>\n",
       "</table>\n",
       "</div>"
      ],
      "text/plain": [
       "   Apartment  Independent Floor  Independent House  Villa\n",
       "0          0                  1                  0      0\n",
       "1          1                  0                  0      0\n",
       "2          0                  1                  0      0\n",
       "3          0                  1                  0      0\n",
       "4          1                  0                  0      0"
      ]
     },
     "execution_count": 29,
     "metadata": {},
     "output_type": "execute_result"
    }
   ],
   "source": [
    "property_dummy = pd.get_dummies(df5.propertyType, dtype=int)\n",
    "property_dummy.head()"
   ]
  },
  {
   "cell_type": "code",
   "execution_count": 31,
   "metadata": {},
   "outputs": [
    {
     "data": {
      "text/html": [
       "<div>\n",
       "<style scoped>\n",
       "    .dataframe tbody tr th:only-of-type {\n",
       "        vertical-align: middle;\n",
       "    }\n",
       "\n",
       "    .dataframe tbody tr th {\n",
       "        vertical-align: top;\n",
       "    }\n",
       "\n",
       "    .dataframe thead th {\n",
       "        text-align: right;\n",
       "    }\n",
       "</style>\n",
       "<table border=\"1\" class=\"dataframe\">\n",
       "  <thead>\n",
       "    <tr style=\"text-align: right;\">\n",
       "      <th></th>\n",
       "      <th>size_sq_ft</th>\n",
       "      <th>propertyType</th>\n",
       "      <th>bedrooms</th>\n",
       "      <th>localityName</th>\n",
       "      <th>price</th>\n",
       "      <th>closest_mtero_station_km</th>\n",
       "      <th>AP_dist_km</th>\n",
       "      <th>Aiims_dist_km</th>\n",
       "      <th>NDRLW_dist_km</th>\n",
       "      <th>price_per_sqft</th>\n",
       "      <th>...</th>\n",
       "      <th>dwarka sector 17</th>\n",
       "      <th>greater kailash Enclave 1</th>\n",
       "      <th>i p extension patparganj</th>\n",
       "      <th>laxmi nagar</th>\n",
       "      <th>laxmi nagar near metro station</th>\n",
       "      <th>mayur vihar phase 1</th>\n",
       "      <th>nawada</th>\n",
       "      <th>other</th>\n",
       "      <th>rohini sector 5</th>\n",
       "      <th>vikaspuri</th>\n",
       "    </tr>\n",
       "  </thead>\n",
       "  <tbody>\n",
       "    <tr>\n",
       "      <th>0</th>\n",
       "      <td>400</td>\n",
       "      <td>Independent Floor</td>\n",
       "      <td>1</td>\n",
       "      <td>Swasthya Vihar</td>\n",
       "      <td>9000</td>\n",
       "      <td>0.577495</td>\n",
       "      <td>21.741188</td>\n",
       "      <td>11.119239</td>\n",
       "      <td>6.227231</td>\n",
       "      <td>22.500000</td>\n",
       "      <td>...</td>\n",
       "      <td>0</td>\n",
       "      <td>0</td>\n",
       "      <td>0</td>\n",
       "      <td>0</td>\n",
       "      <td>0</td>\n",
       "      <td>0</td>\n",
       "      <td>0</td>\n",
       "      <td>0</td>\n",
       "      <td>0</td>\n",
       "      <td>0</td>\n",
       "    </tr>\n",
       "    <tr>\n",
       "      <th>1</th>\n",
       "      <td>1050</td>\n",
       "      <td>Apartment</td>\n",
       "      <td>2</td>\n",
       "      <td>mayur vihar phase 1</td>\n",
       "      <td>20000</td>\n",
       "      <td>0.417142</td>\n",
       "      <td>21.401856</td>\n",
       "      <td>9.419061</td>\n",
       "      <td>9.217502</td>\n",
       "      <td>19.047619</td>\n",
       "      <td>...</td>\n",
       "      <td>0</td>\n",
       "      <td>0</td>\n",
       "      <td>0</td>\n",
       "      <td>0</td>\n",
       "      <td>0</td>\n",
       "      <td>1</td>\n",
       "      <td>0</td>\n",
       "      <td>0</td>\n",
       "      <td>0</td>\n",
       "      <td>0</td>\n",
       "    </tr>\n",
       "    <tr>\n",
       "      <th>2</th>\n",
       "      <td>2250</td>\n",
       "      <td>Independent Floor</td>\n",
       "      <td>2</td>\n",
       "      <td>Swasthya Vihar</td>\n",
       "      <td>28000</td>\n",
       "      <td>0.125136</td>\n",
       "      <td>22.620365</td>\n",
       "      <td>11.829486</td>\n",
       "      <td>7.159184</td>\n",
       "      <td>12.444444</td>\n",
       "      <td>...</td>\n",
       "      <td>0</td>\n",
       "      <td>0</td>\n",
       "      <td>0</td>\n",
       "      <td>0</td>\n",
       "      <td>0</td>\n",
       "      <td>0</td>\n",
       "      <td>0</td>\n",
       "      <td>0</td>\n",
       "      <td>0</td>\n",
       "      <td>0</td>\n",
       "    </tr>\n",
       "    <tr>\n",
       "      <th>3</th>\n",
       "      <td>1350</td>\n",
       "      <td>Independent Floor</td>\n",
       "      <td>2</td>\n",
       "      <td>Krishna Nagar</td>\n",
       "      <td>28000</td>\n",
       "      <td>0.371709</td>\n",
       "      <td>22.681201</td>\n",
       "      <td>11.982708</td>\n",
       "      <td>7.097348</td>\n",
       "      <td>20.740741</td>\n",
       "      <td>...</td>\n",
       "      <td>0</td>\n",
       "      <td>0</td>\n",
       "      <td>0</td>\n",
       "      <td>0</td>\n",
       "      <td>0</td>\n",
       "      <td>0</td>\n",
       "      <td>0</td>\n",
       "      <td>0</td>\n",
       "      <td>0</td>\n",
       "      <td>0</td>\n",
       "    </tr>\n",
       "    <tr>\n",
       "      <th>4</th>\n",
       "      <td>450</td>\n",
       "      <td>Apartment</td>\n",
       "      <td>2</td>\n",
       "      <td>New Ashok Nagar</td>\n",
       "      <td>12500</td>\n",
       "      <td>1.087760</td>\n",
       "      <td>22.592810</td>\n",
       "      <td>10.571573</td>\n",
       "      <td>10.263271</td>\n",
       "      <td>27.777778</td>\n",
       "      <td>...</td>\n",
       "      <td>0</td>\n",
       "      <td>0</td>\n",
       "      <td>0</td>\n",
       "      <td>0</td>\n",
       "      <td>0</td>\n",
       "      <td>0</td>\n",
       "      <td>0</td>\n",
       "      <td>0</td>\n",
       "      <td>0</td>\n",
       "      <td>0</td>\n",
       "    </tr>\n",
       "  </tbody>\n",
       "</table>\n",
       "<p>5 rows × 274 columns</p>\n",
       "</div>"
      ],
      "text/plain": [
       "   size_sq_ft       propertyType  bedrooms         localityName  price  \\\n",
       "0         400  Independent Floor         1       Swasthya Vihar   9000   \n",
       "1        1050          Apartment         2  mayur vihar phase 1  20000   \n",
       "2        2250  Independent Floor         2       Swasthya Vihar  28000   \n",
       "3        1350  Independent Floor         2        Krishna Nagar  28000   \n",
       "4         450          Apartment         2      New Ashok Nagar  12500   \n",
       "\n",
       "   closest_mtero_station_km  AP_dist_km  Aiims_dist_km  NDRLW_dist_km  \\\n",
       "0                  0.577495   21.741188      11.119239       6.227231   \n",
       "1                  0.417142   21.401856       9.419061       9.217502   \n",
       "2                  0.125136   22.620365      11.829486       7.159184   \n",
       "3                  0.371709   22.681201      11.982708       7.097348   \n",
       "4                  1.087760   22.592810      10.571573      10.263271   \n",
       "\n",
       "   price_per_sqft  ...  dwarka sector 17  greater kailash Enclave 1  \\\n",
       "0       22.500000  ...                 0                          0   \n",
       "1       19.047619  ...                 0                          0   \n",
       "2       12.444444  ...                 0                          0   \n",
       "3       20.740741  ...                 0                          0   \n",
       "4       27.777778  ...                 0                          0   \n",
       "\n",
       "   i p extension patparganj  laxmi nagar  laxmi nagar near metro station  \\\n",
       "0                         0            0                               0   \n",
       "1                         0            0                               0   \n",
       "2                         0            0                               0   \n",
       "3                         0            0                               0   \n",
       "4                         0            0                               0   \n",
       "\n",
       "   mayur vihar phase 1  nawada  other  rohini sector 5  vikaspuri  \n",
       "0                    0       0      0                0          0  \n",
       "1                    1       0      0                0          0  \n",
       "2                    0       0      0                0          0  \n",
       "3                    0       0      0                0          0  \n",
       "4                    0       0      0                0          0  \n",
       "\n",
       "[5 rows x 274 columns]"
      ]
     },
     "execution_count": 31,
     "metadata": {},
     "output_type": "execute_result"
    }
   ],
   "source": [
    "df6 = pd.concat([df5,property_dummy,locality_dummy], axis='columns')\n",
    "df6.head()"
   ]
  },
  {
   "cell_type": "code",
   "execution_count": 32,
   "metadata": {},
   "outputs": [
    {
     "data": {
      "text/html": [
       "<div>\n",
       "<style scoped>\n",
       "    .dataframe tbody tr th:only-of-type {\n",
       "        vertical-align: middle;\n",
       "    }\n",
       "\n",
       "    .dataframe tbody tr th {\n",
       "        vertical-align: top;\n",
       "    }\n",
       "\n",
       "    .dataframe thead th {\n",
       "        text-align: right;\n",
       "    }\n",
       "</style>\n",
       "<table border=\"1\" class=\"dataframe\">\n",
       "  <thead>\n",
       "    <tr style=\"text-align: right;\">\n",
       "      <th></th>\n",
       "      <th>size_sq_ft</th>\n",
       "      <th>bedrooms</th>\n",
       "      <th>price</th>\n",
       "      <th>closest_mtero_station_km</th>\n",
       "      <th>price_per_sqft</th>\n",
       "      <th>Apartment</th>\n",
       "      <th>Independent Floor</th>\n",
       "      <th>Independent House</th>\n",
       "      <th>Villa</th>\n",
       "      <th>72 Sector 23 Road</th>\n",
       "      <th>...</th>\n",
       "      <th>dwarka sector 17</th>\n",
       "      <th>greater kailash Enclave 1</th>\n",
       "      <th>i p extension patparganj</th>\n",
       "      <th>laxmi nagar</th>\n",
       "      <th>laxmi nagar near metro station</th>\n",
       "      <th>mayur vihar phase 1</th>\n",
       "      <th>nawada</th>\n",
       "      <th>other</th>\n",
       "      <th>rohini sector 5</th>\n",
       "      <th>vikaspuri</th>\n",
       "    </tr>\n",
       "  </thead>\n",
       "  <tbody>\n",
       "    <tr>\n",
       "      <th>0</th>\n",
       "      <td>400</td>\n",
       "      <td>1</td>\n",
       "      <td>9000</td>\n",
       "      <td>0.577495</td>\n",
       "      <td>22.500000</td>\n",
       "      <td>0</td>\n",
       "      <td>1</td>\n",
       "      <td>0</td>\n",
       "      <td>0</td>\n",
       "      <td>0</td>\n",
       "      <td>...</td>\n",
       "      <td>0</td>\n",
       "      <td>0</td>\n",
       "      <td>0</td>\n",
       "      <td>0</td>\n",
       "      <td>0</td>\n",
       "      <td>0</td>\n",
       "      <td>0</td>\n",
       "      <td>0</td>\n",
       "      <td>0</td>\n",
       "      <td>0</td>\n",
       "    </tr>\n",
       "    <tr>\n",
       "      <th>1</th>\n",
       "      <td>1050</td>\n",
       "      <td>2</td>\n",
       "      <td>20000</td>\n",
       "      <td>0.417142</td>\n",
       "      <td>19.047619</td>\n",
       "      <td>1</td>\n",
       "      <td>0</td>\n",
       "      <td>0</td>\n",
       "      <td>0</td>\n",
       "      <td>0</td>\n",
       "      <td>...</td>\n",
       "      <td>0</td>\n",
       "      <td>0</td>\n",
       "      <td>0</td>\n",
       "      <td>0</td>\n",
       "      <td>0</td>\n",
       "      <td>1</td>\n",
       "      <td>0</td>\n",
       "      <td>0</td>\n",
       "      <td>0</td>\n",
       "      <td>0</td>\n",
       "    </tr>\n",
       "    <tr>\n",
       "      <th>2</th>\n",
       "      <td>2250</td>\n",
       "      <td>2</td>\n",
       "      <td>28000</td>\n",
       "      <td>0.125136</td>\n",
       "      <td>12.444444</td>\n",
       "      <td>0</td>\n",
       "      <td>1</td>\n",
       "      <td>0</td>\n",
       "      <td>0</td>\n",
       "      <td>0</td>\n",
       "      <td>...</td>\n",
       "      <td>0</td>\n",
       "      <td>0</td>\n",
       "      <td>0</td>\n",
       "      <td>0</td>\n",
       "      <td>0</td>\n",
       "      <td>0</td>\n",
       "      <td>0</td>\n",
       "      <td>0</td>\n",
       "      <td>0</td>\n",
       "      <td>0</td>\n",
       "    </tr>\n",
       "    <tr>\n",
       "      <th>3</th>\n",
       "      <td>1350</td>\n",
       "      <td>2</td>\n",
       "      <td>28000</td>\n",
       "      <td>0.371709</td>\n",
       "      <td>20.740741</td>\n",
       "      <td>0</td>\n",
       "      <td>1</td>\n",
       "      <td>0</td>\n",
       "      <td>0</td>\n",
       "      <td>0</td>\n",
       "      <td>...</td>\n",
       "      <td>0</td>\n",
       "      <td>0</td>\n",
       "      <td>0</td>\n",
       "      <td>0</td>\n",
       "      <td>0</td>\n",
       "      <td>0</td>\n",
       "      <td>0</td>\n",
       "      <td>0</td>\n",
       "      <td>0</td>\n",
       "      <td>0</td>\n",
       "    </tr>\n",
       "    <tr>\n",
       "      <th>4</th>\n",
       "      <td>450</td>\n",
       "      <td>2</td>\n",
       "      <td>12500</td>\n",
       "      <td>1.087760</td>\n",
       "      <td>27.777778</td>\n",
       "      <td>1</td>\n",
       "      <td>0</td>\n",
       "      <td>0</td>\n",
       "      <td>0</td>\n",
       "      <td>0</td>\n",
       "      <td>...</td>\n",
       "      <td>0</td>\n",
       "      <td>0</td>\n",
       "      <td>0</td>\n",
       "      <td>0</td>\n",
       "      <td>0</td>\n",
       "      <td>0</td>\n",
       "      <td>0</td>\n",
       "      <td>0</td>\n",
       "      <td>0</td>\n",
       "      <td>0</td>\n",
       "    </tr>\n",
       "  </tbody>\n",
       "</table>\n",
       "<p>5 rows × 269 columns</p>\n",
       "</div>"
      ],
      "text/plain": [
       "   size_sq_ft  bedrooms  price  closest_mtero_station_km  price_per_sqft  \\\n",
       "0         400         1   9000                  0.577495       22.500000   \n",
       "1        1050         2  20000                  0.417142       19.047619   \n",
       "2        2250         2  28000                  0.125136       12.444444   \n",
       "3        1350         2  28000                  0.371709       20.740741   \n",
       "4         450         2  12500                  1.087760       27.777778   \n",
       "\n",
       "   Apartment  Independent Floor  Independent House  Villa  72 Sector 23 Road  \\\n",
       "0          0                  1                  0      0                  0   \n",
       "1          1                  0                  0      0                  0   \n",
       "2          0                  1                  0      0                  0   \n",
       "3          0                  1                  0      0                  0   \n",
       "4          1                  0                  0      0                  0   \n",
       "\n",
       "   ...  dwarka sector 17  greater kailash Enclave 1  i p extension patparganj  \\\n",
       "0  ...                 0                          0                         0   \n",
       "1  ...                 0                          0                         0   \n",
       "2  ...                 0                          0                         0   \n",
       "3  ...                 0                          0                         0   \n",
       "4  ...                 0                          0                         0   \n",
       "\n",
       "   laxmi nagar  laxmi nagar near metro station  mayur vihar phase 1  nawada  \\\n",
       "0            0                               0                    0       0   \n",
       "1            0                               0                    1       0   \n",
       "2            0                               0                    0       0   \n",
       "3            0                               0                    0       0   \n",
       "4            0                               0                    0       0   \n",
       "\n",
       "   other  rohini sector 5  vikaspuri  \n",
       "0      0                0          0  \n",
       "1      0                0          0  \n",
       "2      0                0          0  \n",
       "3      0                0          0  \n",
       "4      0                0          0  \n",
       "\n",
       "[5 rows x 269 columns]"
      ]
     },
     "execution_count": 32,
     "metadata": {},
     "output_type": "execute_result"
    }
   ],
   "source": [
    "df7 = df6.drop(['localityName','propertyType','AP_dist_km','Aiims_dist_km','NDRLW_dist_km'], axis='columns')\n",
    "df7.head()"
   ]
  },
  {
   "cell_type": "markdown",
   "metadata": {},
   "source": [
    "## MODEL BUILDING"
   ]
  },
  {
   "cell_type": "code",
   "execution_count": 33,
   "metadata": {},
   "outputs": [
    {
     "data": {
      "text/plain": [
       "(17890, 269)"
      ]
     },
     "execution_count": 33,
     "metadata": {},
     "output_type": "execute_result"
    }
   ],
   "source": [
    "df7.shape"
   ]
  },
  {
   "cell_type": "code",
   "execution_count": 34,
   "metadata": {},
   "outputs": [],
   "source": [
    "X = df7.drop('price', axis='columns')\n",
    "y = df7.price"
   ]
  },
  {
   "cell_type": "code",
   "execution_count": 35,
   "metadata": {},
   "outputs": [],
   "source": [
    "from sklearn.model_selection import train_test_split\n",
    "X_train, X_test, y_train, y_test = train_test_split(X,y,test_size=0.2,random_state=10)"
   ]
  },
  {
   "cell_type": "markdown",
   "metadata": {},
   "source": [
    "### 1. Linear Regression Model"
   ]
  },
  {
   "cell_type": "code",
   "execution_count": 36,
   "metadata": {},
   "outputs": [
    {
     "data": {
      "text/plain": [
       "0.5849923415573208"
      ]
     },
     "execution_count": 36,
     "metadata": {},
     "output_type": "execute_result"
    }
   ],
   "source": [
    "from sklearn.linear_model import LinearRegression\n",
    "lin_reg = LinearRegression()\n",
    "lin_reg.fit(X_train,y_train)\n",
    "lin_reg.score(X_test,y_test)"
   ]
  },
  {
   "cell_type": "code",
   "execution_count": 37,
   "metadata": {},
   "outputs": [
    {
     "data": {
      "text/plain": [
       "array([0.57000617, 0.46763361, 0.44575412, 0.26861195, 0.51963365,\n",
       "       0.46723187, 0.57969458, 0.60699397, 0.6007534 , 0.52856661])"
      ]
     },
     "execution_count": 37,
     "metadata": {},
     "output_type": "execute_result"
    }
   ],
   "source": [
    "from sklearn.model_selection import ShuffleSplit\n",
    "from sklearn.model_selection import cross_val_score\n",
    "\n",
    "# R_square value by using ShuffleSplit in Cross Validation (R2_score)\n",
    "\n",
    "cv_lin = ShuffleSplit(n_splits=10, test_size=0.2, random_state=10)\n",
    "\n",
    "cross_val_score(LinearRegression(),X_train,y_train,cv=cv_lin) #ShuffleSplit"
   ]
  },
  {
   "cell_type": "code",
   "execution_count": 38,
   "metadata": {},
   "outputs": [
    {
     "data": {
      "text/plain": [
       "array([ 0.50995284,  0.09978258,  0.62193674,  0.36833726,  0.70022025,\n",
       "        0.58036727,  0.6833491 ,  0.1225719 , -0.15518976,  0.31790106])"
      ]
     },
     "execution_count": 38,
     "metadata": {},
     "output_type": "execute_result"
    }
   ],
   "source": [
    "# R_square value using Kfold Cross Validation (R2_score)\n",
    "\n",
    "cross_val_score(LinearRegression(),X_train,y_train,cv=10) #Kfold"
   ]
  },
  {
   "cell_type": "code",
   "execution_count": 39,
   "metadata": {},
   "outputs": [
    {
     "data": {
      "text/plain": [
       "47278.374697911095"
      ]
     },
     "execution_count": 39,
     "metadata": {},
     "output_type": "execute_result"
    }
   ],
   "source": [
    "# Root mean squared error (RMSE)\n",
    "\n",
    "lin_predict = lin_reg.predict(X_test)\n",
    "\n",
    "from sklearn.metrics import mean_squared_error\n",
    "lin_rmse = np.sqrt(mean_squared_error(lin_predict,y_test))\n",
    "lin_rmse"
   ]
  },
  {
   "cell_type": "code",
   "execution_count": 40,
   "metadata": {},
   "outputs": [
    {
     "data": {
      "text/plain": [
       "array([47278.37469791, 52687.99197072, 45159.30069476, 93551.05567547,\n",
       "       54982.86237664, 42671.77301074, 58586.17690985, 87830.00203378,\n",
       "       39194.91896719, 57088.56771743])"
      ]
     },
     "execution_count": 40,
     "metadata": {},
     "output_type": "execute_result"
    }
   ],
   "source": [
    "# RMSE from Negative mean square error using cross validation\n",
    "\n",
    "np.sqrt(-cross_val_score(LinearRegression(),X,y,cv=cv_lin,scoring='neg_mean_squared_error'))"
   ]
  },
  {
   "cell_type": "code",
   "execution_count": 44,
   "metadata": {},
   "outputs": [
    {
     "data": {
      "text/plain": [
       "<seaborn.axisgrid.FacetGrid at 0x1b2e106af20>"
      ]
     },
     "execution_count": 44,
     "metadata": {},
     "output_type": "execute_result"
    },
    {
     "data": {
      "image/png": "[encoded data removed]",
      "text/plain": [
       "<Figure size 500x500 with 1 Axes>"
      ]
     },
     "metadata": {},
     "output_type": "display_data"
    }
   ],
   "source": [
    "# Residual distribution plot\n",
    "\n",
    "sns.displot(lin_predict-y_test, kind='kde')"
   ]
  },
  {
   "cell_type": "markdown",
   "metadata": {},
   "source": [
    "### 2. Random Forest Model"
   ]
  },
  {
   "cell_type": "code",
   "execution_count": 38,
   "metadata": {},
   "outputs": [
    {
     "data": {
      "text/plain": [
       "0.8594498916412872"
      ]
     },
     "execution_count": 38,
     "metadata": {},
     "output_type": "execute_result"
    }
   ],
   "source": [
    "from sklearn.ensemble import RandomForestRegressor\n",
    "\n",
    "forest_reg = RandomForestRegressor(random_state=10)\n",
    "forest_reg.fit(X_train,y_train)\n",
    "forest_reg.score(X_test,y_test)"
   ]
  },
  {
   "cell_type": "code",
   "execution_count": 39,
   "metadata": {},
   "outputs": [
    {
     "data": {
      "text/plain": [
       "array([0.88476576, 0.98150082, 0.89712838, 0.94294914, 0.77440825,\n",
       "       0.79977261, 0.90687496, 0.95880726, 0.99340614, 0.81324841])"
      ]
     },
     "execution_count": 39,
     "metadata": {},
     "output_type": "execute_result"
    }
   ],
   "source": [
    "# R_sqaure value by using ShuffleSplit in Cross Validation (R2_score)\n",
    "\n",
    "cv_forest = ShuffleSplit(n_splits=10, test_size=0.2, random_state=10)\n",
    "\n",
    "cross_val_score(RandomForestRegressor(),X_train,y_train,cv=cv_forest)"
   ]
  },
  {
   "cell_type": "code",
   "execution_count": 40,
   "metadata": {},
   "outputs": [
    {
     "data": {
      "text/plain": [
       "0.8991124792418402"
      ]
     },
     "execution_count": 40,
     "metadata": {},
     "output_type": "execute_result"
    }
   ],
   "source": [
    "# Mean cross val score (R2_score)\n",
    "\n",
    "cross_val_score(RandomForestRegressor(),X_train,y_train,cv=cv_forest).mean()"
   ]
  },
  {
   "cell_type": "code",
   "execution_count": 41,
   "metadata": {},
   "outputs": [
    {
     "name": "stdout",
     "output_type": "stream",
     "text": [
      "Mean Score: 0.9053531856656312\n"
     ]
    }
   ],
   "source": [
    "# Same as above but with different code (R2_score)\n",
    "\n",
    "cv_forest_mean = np.mean(cross_val_score(RandomForestRegressor(),X_train,y_train,cv=cv_forest))\n",
    "print('Mean Score:', cv_forest_mean)"
   ]
  },
  {
   "cell_type": "code",
   "execution_count": 59,
   "metadata": {},
   "outputs": [
    {
     "data": {
      "text/plain": [
       "27513.76826304545"
      ]
     },
     "execution_count": 59,
     "metadata": {},
     "output_type": "execute_result"
    }
   ],
   "source": [
    "# Root mean squared value (RMSE)\n",
    "\n",
    "forest_predict = forest_reg.predict(X_test)\n",
    "\n",
    "forest_rmse = np.sqrt(mean_squared_error(forest_predict,y_test))\n",
    "forest_rmse"
   ]
  },
  {
   "cell_type": "code",
   "execution_count": 42,
   "metadata": {},
   "outputs": [
    {
     "data": {
      "text/plain": [
       "0.8639856058884097"
      ]
     },
     "execution_count": 42,
     "metadata": {},
     "output_type": "execute_result"
    }
   ],
   "source": [
    "# R2_score with different parameters of RandomForest Regressor (by default n_estimators=100)\n",
    "\n",
    "forest_reg1 = RandomForestRegressor(n_estimators=200,random_state=10)     #for n_estimators=100 => score=0.8594498916412872\n",
    "forest_reg1.fit(X_train,y_train)\n",
    "forest_reg1.score(X_test,y_test)"
   ]
  },
  {
   "cell_type": "markdown",
   "metadata": {},
   "source": [
    "### 3. Linear Regression (Using StandardScaler)"
   ]
  },
  {
   "cell_type": "code",
   "execution_count": 48,
   "metadata": {},
   "outputs": [],
   "source": [
    "from sklearn.preprocessing import StandardScaler\n",
    "\n",
    "scaler = StandardScaler()\n",
    "X_train_S = scaler.fit_transform(X_train)\n",
    "X_test_S = scaler.transform(X_test)"
   ]
  },
  {
   "cell_type": "code",
   "execution_count": 44,
   "metadata": {},
   "outputs": [
    {
     "data": {
      "text/plain": [
       "0.5845635972873842"
      ]
     },
     "execution_count": 44,
     "metadata": {},
     "output_type": "execute_result"
    }
   ],
   "source": [
    "#from sklearn.linear_model import LinearRegression\n",
    "\n",
    "lin_reg1 = LinearRegression()\n",
    "lin_reg1.fit(X_train_S,y_train)\n",
    "lin_reg1.score(X_test_S,y_test)   #R2_score on testing set"
   ]
  },
  {
   "cell_type": "code",
   "execution_count": 45,
   "metadata": {},
   "outputs": [
    {
     "data": {
      "text/plain": [
       "0.601831690340944"
      ]
     },
     "execution_count": 45,
     "metadata": {},
     "output_type": "execute_result"
    }
   ],
   "source": [
    "# R2_score on training set\n",
    "\n",
    "lin_reg1.score(X_train_S,y_train)"
   ]
  },
  {
   "cell_type": "code",
   "execution_count": 52,
   "metadata": {},
   "outputs": [
    {
     "data": {
      "text/plain": [
       "array([ 5.70075995e-01, -3.03378147e+22,  4.45743119e-01,  2.67390254e-01,\n",
       "        5.19601356e-01,  4.67275009e-01,  5.79651059e-01,  6.07213387e-01,\n",
       "        5.99862458e-01,  5.28560669e-01])"
      ]
     },
     "execution_count": 52,
     "metadata": {},
     "output_type": "execute_result"
    }
   ],
   "source": [
    "#from sklearn.model_selection import ShuffleSplit\n",
    "#from sklearn.model_selection import cross_val_score\n",
    "\n",
    "cv_lin1 = ShuffleSplit(n_splits=10, test_size=0.2, random_state=10)\n",
    "\n",
    "cross_val_score(LinearRegression(),X_train_S,y_train,cv=cv_lin1) #ShuffleSplit"
   ]
  },
  {
   "cell_type": "code",
   "execution_count": 47,
   "metadata": {},
   "outputs": [
    {
     "data": {
      "text/plain": [
       "array([ 0.51001436,  0.09708802,  0.62025763,  0.36893673,  0.69995591,\n",
       "        0.58034763,  0.68354964,  0.14329387, -0.04419117,  0.3178561 ])"
      ]
     },
     "execution_count": 47,
     "metadata": {},
     "output_type": "execute_result"
    }
   ],
   "source": [
    "# R2_score using cross validation with Kfolds\n",
    "\n",
    "cross_val_score(LinearRegression(),X_train_S,y_train,cv=10) #Kfold"
   ]
  },
  {
   "cell_type": "code",
   "execution_count": 49,
   "metadata": {},
   "outputs": [
    {
     "data": {
      "text/plain": [
       "47302.79003003283"
      ]
     },
     "execution_count": 49,
     "metadata": {},
     "output_type": "execute_result"
    }
   ],
   "source": [
    "# RMSE value\n",
    "\n",
    "lin_predict1 = lin_reg1.predict(X_test_S)\n",
    "\n",
    "from sklearn.metrics import mean_squared_error\n",
    "lin_rmse1 = np.sqrt(mean_squared_error(lin_predict1,y_test))\n",
    "lin_rmse1"
   ]
  },
  {
   "cell_type": "code",
   "execution_count": 51,
   "metadata": {},
   "outputs": [
    {
     "data": {
      "text/plain": [
       "array([6.18157607e+04, 9.24006274e+15, 4.60598562e+04, 3.71934768e+04,\n",
       "       9.13822570e+04, 8.54828798e+04, 7.48100516e+04, 4.47761362e+04,\n",
       "       5.48419504e+04, 8.56456545e+04])"
      ]
     },
     "execution_count": 51,
     "metadata": {},
     "output_type": "execute_result"
    }
   ],
   "source": [
    "# RMSE using cross validation with ShuffleSplit and scorer as negative mean squared error\n",
    "\n",
    "np.sqrt(-cross_val_score(LinearRegression(),X_train_S,y_train,cv=cv_lin1,scoring='neg_mean_squared_error'))"
   ]
  },
  {
   "cell_type": "code",
   "execution_count": 73,
   "metadata": {},
   "outputs": [
    {
     "name": "stderr",
     "output_type": "stream",
     "text": [
      "C:\\Users\\Aryan\\AppData\\Roaming\\Python\\Python310\\site-packages\\seaborn\\axisgrid.py:123: UserWarning: The figure layout has changed to tight\n",
      "  self._figure.tight_layout(*args, **kwargs)\n"
     ]
    },
    {
     "data": {
      "text/plain": [
       "<seaborn.axisgrid.FacetGrid at 0x1a902544130>"
      ]
     },
     "execution_count": 73,
     "metadata": {},
     "output_type": "execute_result"
    },
    {
     "data": {
      "image/png": "[encoded data removed]",
      "text/plain": [
       "<Figure size 500x500 with 1 Axes>"
      ]
     },
     "metadata": {},
     "output_type": "display_data"
    }
   ],
   "source": [
    "# Residual ditribution plot\n",
    "\n",
    "sns.displot(lin_predict1-y_test, kind='kde')"
   ]
  },
  {
   "cell_type": "markdown",
   "metadata": {},
   "source": [
    "### 4. Ridge Regression"
   ]
  },
  {
   "cell_type": "code",
   "execution_count": 45,
   "metadata": {},
   "outputs": [],
   "source": [
    "from sklearn.linear_model import Ridge\n",
    "from sklearn.model_selection import GridSearchCV"
   ]
  },
  {
   "cell_type": "code",
   "execution_count": 50,
   "metadata": {},
   "outputs": [],
   "source": [
    "ridge_reg = Ridge()"
   ]
  },
  {
   "cell_type": "code",
   "execution_count": 62,
   "metadata": {},
   "outputs": [
    {
     "data": {
      "text/html": [
       "<style>#sk-container-id-4 {color: black;}#sk-container-id-4 pre{padding: 0;}#sk-container-id-4 div.sk-toggleable {background-color: white;}#sk-container-id-4 label.sk-toggleable__label {cursor: pointer;display: block;width: 100%;margin-bottom: 0;padding: 0.3em;box-sizing: border-box;text-align: center;}#sk-container-id-4 label.sk-toggleable__label-arrow:before {content: \"▸\";float: left;margin-right: 0.25em;color: #696969;}#sk-container-id-4 label.sk-toggleable__label-arrow:hover:before {color: black;}#sk-container-id-4 div.sk-estimator:hover label.sk-toggleable__label-arrow:before {color: black;}#sk-container-id-4 div.sk-toggleable__content {max-height: 0;max-width: 0;overflow: hidden;text-align: left;background-color: #f0f8ff;}#sk-container-id-4 div.sk-toggleable__content pre {margin: 0.2em;color: black;border-radius: 0.25em;background-color: #f0f8ff;}#sk-container-id-4 input.sk-toggleable__control:checked~div.sk-toggleable__content {max-height: 200px;max-width: 100%;overflow: auto;}#sk-container-id-4 input.sk-toggleable__control:checked~label.sk-toggleable__label-arrow:before {content: \"▾\";}#sk-container-id-4 div.sk-estimator input.sk-toggleable__control:checked~label.sk-toggleable__label {background-color: #d4ebff;}#sk-container-id-4 div.sk-label input.sk-toggleable__control:checked~label.sk-toggleable__label {background-color: #d4ebff;}#sk-container-id-4 input.sk-hidden--visually {border: 0;clip: rect(1px 1px 1px 1px);clip: rect(1px, 1px, 1px, 1px);height: 1px;margin: -1px;overflow: hidden;padding: 0;position: absolute;width: 1px;}#sk-container-id-4 div.sk-estimator {font-family: monospace;background-color: #f0f8ff;border: 1px dotted black;border-radius: 0.25em;box-sizing: border-box;margin-bottom: 0.5em;}#sk-container-id-4 div.sk-estimator:hover {background-color: #d4ebff;}#sk-container-id-4 div.sk-parallel-item::after {content: \"\";width: 100%;border-bottom: 1px solid gray;flex-grow: 1;}#sk-container-id-4 div.sk-label:hover label.sk-toggleable__label {background-color: #d4ebff;}#sk-container-id-4 div.sk-serial::before {content: \"\";position: absolute;border-left: 1px solid gray;box-sizing: border-box;top: 0;bottom: 0;left: 50%;z-index: 0;}#sk-container-id-4 div.sk-serial {display: flex;flex-direction: column;align-items: center;background-color: white;padding-right: 0.2em;padding-left: 0.2em;position: relative;}#sk-container-id-4 div.sk-item {position: relative;z-index: 1;}#sk-container-id-4 div.sk-parallel {display: flex;align-items: stretch;justify-content: center;background-color: white;position: relative;}#sk-container-id-4 div.sk-item::before, #sk-container-id-4 div.sk-parallel-item::before {content: \"\";position: absolute;border-left: 1px solid gray;box-sizing: border-box;top: 0;bottom: 0;left: 50%;z-index: -1;}#sk-container-id-4 div.sk-parallel-item {display: flex;flex-direction: column;z-index: 1;position: relative;background-color: white;}#sk-container-id-4 div.sk-parallel-item:first-child::after {align-self: flex-end;width: 50%;}#sk-container-id-4 div.sk-parallel-item:last-child::after {align-self: flex-start;width: 50%;}#sk-container-id-4 div.sk-parallel-item:only-child::after {width: 0;}#sk-container-id-4 div.sk-dashed-wrapped {border: 1px dashed gray;margin: 0 0.4em 0.5em 0.4em;box-sizing: border-box;padding-bottom: 0.4em;background-color: white;}#sk-container-id-4 div.sk-label label {font-family: monospace;font-weight: bold;display: inline-block;line-height: 1.2em;}#sk-container-id-4 div.sk-label-container {text-align: center;}#sk-container-id-4 div.sk-container {/* jupyter's `normalize.less` sets `[hidden] { display: none; }` but bootstrap.min.css set `[hidden] { display: none !important; }` so we also need the `!important` here to be able to override the default hidden behavior on the sphinx rendered scikit-learn.org. See: https://github.com/scikit-learn/scikit-learn/issues/21755 */display: inline-block !important;position: relative;}#sk-container-id-4 div.sk-text-repr-fallback {display: none;}</style><div id=\"sk-container-id-4\" class=\"sk-top-container\"><div class=\"sk-text-repr-fallback\"><pre>GridSearchCV(cv=5, estimator=Ridge(),\n",
       "             param_grid={&#x27;alpha&#x27;: [1, 2, 5, 10, 20, 30, 40, 50, 60, 70, 80, 90,\n",
       "                                   100, 150, 200, 300, 400, 500, 600, 700, 800,\n",
       "                                   900, 1000]},\n",
       "             scoring=&#x27;neg_mean_squared_error&#x27;)</pre><b>In a Jupyter environment, please rerun this cell to show the HTML representation or trust the notebook. <br />On GitHub, the HTML representation is unable to render, please try loading this page with nbviewer.org.</b></div><div class=\"sk-container\" hidden><div class=\"sk-item sk-dashed-wrapped\"><div class=\"sk-label-container\"><div class=\"sk-label sk-toggleable\"><input class=\"sk-toggleable__control sk-hidden--visually\" id=\"sk-estimator-id-10\" type=\"checkbox\" ><label for=\"sk-estimator-id-10\" class=\"sk-toggleable__label sk-toggleable__label-arrow\">GridSearchCV</label><div class=\"sk-toggleable__content\"><pre>GridSearchCV(cv=5, estimator=Ridge(),\n",
       "             param_grid={&#x27;alpha&#x27;: [1, 2, 5, 10, 20, 30, 40, 50, 60, 70, 80, 90,\n",
       "                                   100, 150, 200, 300, 400, 500, 600, 700, 800,\n",
       "                                   900, 1000]},\n",
       "             scoring=&#x27;neg_mean_squared_error&#x27;)</pre></div></div></div><div class=\"sk-parallel\"><div class=\"sk-parallel-item\"><div class=\"sk-item\"><div class=\"sk-label-container\"><div class=\"sk-label sk-toggleable\"><input class=\"sk-toggleable__control sk-hidden--visually\" id=\"sk-estimator-id-11\" type=\"checkbox\" ><label for=\"sk-estimator-id-11\" class=\"sk-toggleable__label sk-toggleable__label-arrow\">estimator: Ridge</label><div class=\"sk-toggleable__content\"><pre>Ridge()</pre></div></div></div><div class=\"sk-serial\"><div class=\"sk-item\"><div class=\"sk-estimator sk-toggleable\"><input class=\"sk-toggleable__control sk-hidden--visually\" id=\"sk-estimator-id-12\" type=\"checkbox\" ><label for=\"sk-estimator-id-12\" class=\"sk-toggleable__label sk-toggleable__label-arrow\">Ridge</label><div class=\"sk-toggleable__content\"><pre>Ridge()</pre></div></div></div></div></div></div></div></div></div></div>"
      ],
      "text/plain": [
       "GridSearchCV(cv=5, estimator=Ridge(),\n",
       "             param_grid={'alpha': [1, 2, 5, 10, 20, 30, 40, 50, 60, 70, 80, 90,\n",
       "                                   100, 150, 200, 300, 400, 500, 600, 700, 800,\n",
       "                                   900, 1000]},\n",
       "             scoring='neg_mean_squared_error')"
      ]
     },
     "execution_count": 62,
     "metadata": {},
     "output_type": "execute_result"
    }
   ],
   "source": [
    "parameters = {'alpha':[1,2,5,10,20,30,40,50,60,70,80,90,100,150,200,300,400,500,600,700,800,900,1000]}\n",
    "ridge_cv = GridSearchCV(ridge_reg,parameters,scoring='neg_mean_squared_error',cv=5)\n",
    "ridge_cv.fit(X_train_S,y_train)"
   ]
  },
  {
   "cell_type": "code",
   "execution_count": 63,
   "metadata": {},
   "outputs": [
    {
     "name": "stdout",
     "output_type": "stream",
     "text": [
      "{'alpha': 400}\n"
     ]
    }
   ],
   "source": [
    "print(ridge_cv.best_params_)"
   ]
  },
  {
   "cell_type": "code",
   "execution_count": 64,
   "metadata": {},
   "outputs": [
    {
     "name": "stdout",
     "output_type": "stream",
     "text": [
      "-3895351647.2572603\n"
     ]
    }
   ],
   "source": [
    "print(ridge_cv.best_score_)"
   ]
  },
  {
   "cell_type": "code",
   "execution_count": 75,
   "metadata": {},
   "outputs": [
    {
     "name": "stdout",
     "output_type": "stream",
     "text": [
      "62412.75228074196\n"
     ]
    }
   ],
   "source": [
    "print(np.sqrt(-ridge_cv.best_score_))"
   ]
  },
  {
   "cell_type": "code",
   "execution_count": 52,
   "metadata": {},
   "outputs": [
    {
     "data": {
      "text/plain": [
       "0.5846984078379154"
      ]
     },
     "execution_count": 52,
     "metadata": {},
     "output_type": "execute_result"
    }
   ],
   "source": [
    "ridge_reg1 = Ridge(alpha=400.0)\n",
    "\n",
    "ridge_reg1.fit(X_train_S,y_train)\n",
    "ridge_reg1.score(X_test_S,y_test)"
   ]
  },
  {
   "cell_type": "code",
   "execution_count": 54,
   "metadata": {},
   "outputs": [],
   "source": [
    "ridge_reg_pred = ridge_reg1.predict(X_test_S)"
   ]
  },
  {
   "cell_type": "code",
   "execution_count": 55,
   "metadata": {},
   "outputs": [
    {
     "data": {
      "text/plain": [
       "<seaborn.axisgrid.FacetGrid at 0x1b2e9306440>"
      ]
     },
     "execution_count": 55,
     "metadata": {},
     "output_type": "execute_result"
    },
    {
     "data": {
      "image/png": "[encoded data removed]",
      "text/plain": [
       "<Figure size 500x500 with 1 Axes>"
      ]
     },
     "metadata": {},
     "output_type": "display_data"
    }
   ],
   "source": [
    "sns.displot(ridge_reg_pred-y_test, kind='kde')"
   ]
  },
  {
   "cell_type": "markdown",
   "metadata": {},
   "source": [
    "### 5. Lasso Regression"
   ]
  },
  {
   "cell_type": "code",
   "execution_count": 56,
   "metadata": {},
   "outputs": [],
   "source": [
    "from sklearn.linear_model import Lasso\n",
    "\n",
    "lasso_reg = Lasso()"
   ]
  },
  {
   "cell_type": "code",
   "execution_count": 89,
   "metadata": {},
   "outputs": [
    {
     "name": "stderr",
     "output_type": "stream",
     "text": [
      "C:\\Users\\Aryan\\AppData\\Roaming\\Python\\Python310\\site-packages\\sklearn\\linear_model\\_coordinate_descent.py:628: ConvergenceWarning: Objective did not converge. You might want to increase the number of iterations, check the scale of the features or consider increasing regularisation. Duality gap: 1.299e+11, tolerance: 7.430e+09\n",
      "  model = cd_fast.enet_coordinate_descent(\n",
      "C:\\Users\\Aryan\\AppData\\Roaming\\Python\\Python310\\site-packages\\sklearn\\linear_model\\_coordinate_descent.py:628: ConvergenceWarning: Objective did not converge. You might want to increase the number of iterations, check the scale of the features or consider increasing regularisation. Duality gap: 3.217e+10, tolerance: 1.108e+10\n",
      "  model = cd_fast.enet_coordinate_descent(\n",
      "C:\\Users\\Aryan\\AppData\\Roaming\\Python\\Python310\\site-packages\\sklearn\\linear_model\\_coordinate_descent.py:628: ConvergenceWarning: Objective did not converge. You might want to increase the number of iterations, check the scale of the features or consider increasing regularisation. Duality gap: 1.152e+11, tolerance: 1.073e+10\n",
      "  model = cd_fast.enet_coordinate_descent(\n",
      "C:\\Users\\Aryan\\AppData\\Roaming\\Python\\Python310\\site-packages\\sklearn\\linear_model\\_coordinate_descent.py:628: ConvergenceWarning: Objective did not converge. You might want to increase the number of iterations, check the scale of the features or consider increasing regularisation. Duality gap: 2.218e+10, tolerance: 1.124e+10\n",
      "  model = cd_fast.enet_coordinate_descent(\n",
      "C:\\Users\\Aryan\\AppData\\Roaming\\Python\\Python310\\site-packages\\sklearn\\linear_model\\_coordinate_descent.py:628: ConvergenceWarning: Objective did not converge. You might want to increase the number of iterations, check the scale of the features or consider increasing regularisation. Duality gap: 1.177e+10, tolerance: 1.073e+10\n",
      "  model = cd_fast.enet_coordinate_descent(\n",
      "C:\\Users\\Aryan\\AppData\\Roaming\\Python\\Python310\\site-packages\\sklearn\\linear_model\\_coordinate_descent.py:628: ConvergenceWarning: Objective did not converge. You might want to increase the number of iterations, check the scale of the features or consider increasing regularisation. Duality gap: 1.214e+10, tolerance: 1.073e+10\n",
      "  model = cd_fast.enet_coordinate_descent(\n"
     ]
    },
    {
     "data": {
      "text/html": [
       "<style>#sk-container-id-12 {color: black;}#sk-container-id-12 pre{padding: 0;}#sk-container-id-12 div.sk-toggleable {background-color: white;}#sk-container-id-12 label.sk-toggleable__label {cursor: pointer;display: block;width: 100%;margin-bottom: 0;padding: 0.3em;box-sizing: border-box;text-align: center;}#sk-container-id-12 label.sk-toggleable__label-arrow:before {content: \"▸\";float: left;margin-right: 0.25em;color: #696969;}#sk-container-id-12 label.sk-toggleable__label-arrow:hover:before {color: black;}#sk-container-id-12 div.sk-estimator:hover label.sk-toggleable__label-arrow:before {color: black;}#sk-container-id-12 div.sk-toggleable__content {max-height: 0;max-width: 0;overflow: hidden;text-align: left;background-color: #f0f8ff;}#sk-container-id-12 div.sk-toggleable__content pre {margin: 0.2em;color: black;border-radius: 0.25em;background-color: #f0f8ff;}#sk-container-id-12 input.sk-toggleable__control:checked~div.sk-toggleable__content {max-height: 200px;max-width: 100%;overflow: auto;}#sk-container-id-12 input.sk-toggleable__control:checked~label.sk-toggleable__label-arrow:before {content: \"▾\";}#sk-container-id-12 div.sk-estimator input.sk-toggleable__control:checked~label.sk-toggleable__label {background-color: #d4ebff;}#sk-container-id-12 div.sk-label input.sk-toggleable__control:checked~label.sk-toggleable__label {background-color: #d4ebff;}#sk-container-id-12 input.sk-hidden--visually {border: 0;clip: rect(1px 1px 1px 1px);clip: rect(1px, 1px, 1px, 1px);height: 1px;margin: -1px;overflow: hidden;padding: 0;position: absolute;width: 1px;}#sk-container-id-12 div.sk-estimator {font-family: monospace;background-color: #f0f8ff;border: 1px dotted black;border-radius: 0.25em;box-sizing: border-box;margin-bottom: 0.5em;}#sk-container-id-12 div.sk-estimator:hover {background-color: #d4ebff;}#sk-container-id-12 div.sk-parallel-item::after {content: \"\";width: 100%;border-bottom: 1px solid gray;flex-grow: 1;}#sk-container-id-12 div.sk-label:hover label.sk-toggleable__label {background-color: #d4ebff;}#sk-container-id-12 div.sk-serial::before {content: \"\";position: absolute;border-left: 1px solid gray;box-sizing: border-box;top: 0;bottom: 0;left: 50%;z-index: 0;}#sk-container-id-12 div.sk-serial {display: flex;flex-direction: column;align-items: center;background-color: white;padding-right: 0.2em;padding-left: 0.2em;position: relative;}#sk-container-id-12 div.sk-item {position: relative;z-index: 1;}#sk-container-id-12 div.sk-parallel {display: flex;align-items: stretch;justify-content: center;background-color: white;position: relative;}#sk-container-id-12 div.sk-item::before, #sk-container-id-12 div.sk-parallel-item::before {content: \"\";position: absolute;border-left: 1px solid gray;box-sizing: border-box;top: 0;bottom: 0;left: 50%;z-index: -1;}#sk-container-id-12 div.sk-parallel-item {display: flex;flex-direction: column;z-index: 1;position: relative;background-color: white;}#sk-container-id-12 div.sk-parallel-item:first-child::after {align-self: flex-end;width: 50%;}#sk-container-id-12 div.sk-parallel-item:last-child::after {align-self: flex-start;width: 50%;}#sk-container-id-12 div.sk-parallel-item:only-child::after {width: 0;}#sk-container-id-12 div.sk-dashed-wrapped {border: 1px dashed gray;margin: 0 0.4em 0.5em 0.4em;box-sizing: border-box;padding-bottom: 0.4em;background-color: white;}#sk-container-id-12 div.sk-label label {font-family: monospace;font-weight: bold;display: inline-block;line-height: 1.2em;}#sk-container-id-12 div.sk-label-container {text-align: center;}#sk-container-id-12 div.sk-container {/* jupyter's `normalize.less` sets `[hidden] { display: none; }` but bootstrap.min.css set `[hidden] { display: none !important; }` so we also need the `!important` here to be able to override the default hidden behavior on the sphinx rendered scikit-learn.org. See: https://github.com/scikit-learn/scikit-learn/issues/21755 */display: inline-block !important;position: relative;}#sk-container-id-12 div.sk-text-repr-fallback {display: none;}</style><div id=\"sk-container-id-12\" class=\"sk-top-container\"><div class=\"sk-text-repr-fallback\"><pre>GridSearchCV(cv=5, estimator=Lasso(),\n",
       "             param_grid={&#x27;alpha&#x27;: [1, 2, 5, 10, 20, 30, 40, 50, 60, 70, 80, 90,\n",
       "                                   100, 150, 200, 300, 400, 500]},\n",
       "             scoring=&#x27;neg_mean_squared_error&#x27;)</pre><b>In a Jupyter environment, please rerun this cell to show the HTML representation or trust the notebook. <br />On GitHub, the HTML representation is unable to render, please try loading this page with nbviewer.org.</b></div><div class=\"sk-container\" hidden><div class=\"sk-item sk-dashed-wrapped\"><div class=\"sk-label-container\"><div class=\"sk-label sk-toggleable\"><input class=\"sk-toggleable__control sk-hidden--visually\" id=\"sk-estimator-id-34\" type=\"checkbox\" ><label for=\"sk-estimator-id-34\" class=\"sk-toggleable__label sk-toggleable__label-arrow\">GridSearchCV</label><div class=\"sk-toggleable__content\"><pre>GridSearchCV(cv=5, estimator=Lasso(),\n",
       "             param_grid={&#x27;alpha&#x27;: [1, 2, 5, 10, 20, 30, 40, 50, 60, 70, 80, 90,\n",
       "                                   100, 150, 200, 300, 400, 500]},\n",
       "             scoring=&#x27;neg_mean_squared_error&#x27;)</pre></div></div></div><div class=\"sk-parallel\"><div class=\"sk-parallel-item\"><div class=\"sk-item\"><div class=\"sk-label-container\"><div class=\"sk-label sk-toggleable\"><input class=\"sk-toggleable__control sk-hidden--visually\" id=\"sk-estimator-id-35\" type=\"checkbox\" ><label for=\"sk-estimator-id-35\" class=\"sk-toggleable__label sk-toggleable__label-arrow\">estimator: Lasso</label><div class=\"sk-toggleable__content\"><pre>Lasso()</pre></div></div></div><div class=\"sk-serial\"><div class=\"sk-item\"><div class=\"sk-estimator sk-toggleable\"><input class=\"sk-toggleable__control sk-hidden--visually\" id=\"sk-estimator-id-36\" type=\"checkbox\" ><label for=\"sk-estimator-id-36\" class=\"sk-toggleable__label sk-toggleable__label-arrow\">Lasso</label><div class=\"sk-toggleable__content\"><pre>Lasso()</pre></div></div></div></div></div></div></div></div></div></div>"
      ],
      "text/plain": [
       "GridSearchCV(cv=5, estimator=Lasso(),\n",
       "             param_grid={'alpha': [1, 2, 5, 10, 20, 30, 40, 50, 60, 70, 80, 90,\n",
       "                                   100, 150, 200, 300, 400, 500]},\n",
       "             scoring='neg_mean_squared_error')"
      ]
     },
     "execution_count": 89,
     "metadata": {},
     "output_type": "execute_result"
    }
   ],
   "source": [
    "parameters = {'alpha':[1,2,5,10,20,30,40,50,60,70,80,90,100,150,200,300,400,500]}\n",
    "lasso_cv = GridSearchCV(lasso_reg,parameters,scoring='neg_mean_squared_error',cv=5)\n",
    "lasso_cv.fit(X_train_S,y_train)"
   ]
  },
  {
   "cell_type": "code",
   "execution_count": 90,
   "metadata": {},
   "outputs": [
    {
     "name": "stdout",
     "output_type": "stream",
     "text": [
      "{'alpha': 90}\n"
     ]
    }
   ],
   "source": [
    "print(lasso_cv.best_params_)"
   ]
  },
  {
   "cell_type": "code",
   "execution_count": 91,
   "metadata": {},
   "outputs": [
    {
     "name": "stdout",
     "output_type": "stream",
     "text": [
      "-3914078952.92269\n"
     ]
    }
   ],
   "source": [
    "print(lasso_cv.best_score_)"
   ]
  },
  {
   "cell_type": "code",
   "execution_count": 92,
   "metadata": {},
   "outputs": [
    {
     "name": "stdout",
     "output_type": "stream",
     "text": [
      "62562.60027302805\n"
     ]
    }
   ],
   "source": [
    "print(np.sqrt(-lasso_cv.best_score_))"
   ]
  },
  {
   "cell_type": "code",
   "execution_count": 61,
   "metadata": {},
   "outputs": [
    {
     "data": {
      "text/plain": [
       "0.5853971076596729"
      ]
     },
     "execution_count": 61,
     "metadata": {},
     "output_type": "execute_result"
    }
   ],
   "source": [
    "lasso_reg1 = Lasso(alpha=90.0)\n",
    "\n",
    "lasso_reg1.fit(X_train_S,y_train)\n",
    "lasso_reg1.score(X_test_S,y_test)"
   ]
  },
  {
   "cell_type": "code",
   "execution_count": 62,
   "metadata": {},
   "outputs": [],
   "source": [
    "lasso_reg_pred = lasso_reg1.predict(X_test_S)"
   ]
  },
  {
   "cell_type": "code",
   "execution_count": 63,
   "metadata": {},
   "outputs": [
    {
     "data": {
      "text/plain": [
       "<seaborn.axisgrid.FacetGrid at 0x1b2e941f0d0>"
      ]
     },
     "execution_count": 63,
     "metadata": {},
     "output_type": "execute_result"
    },
    {
     "data": {
      "image/png": "[encoded data removed]",
      "text/plain": [
       "<Figure size 500x500 with 1 Axes>"
      ]
     },
     "metadata": {},
     "output_type": "display_data"
    }
   ],
   "source": [
    "sns.displot(lasso_reg_pred-y_test, kind='kde')"
   ]
  }
 ],
 "metadata": {
  "kernelspec": {
   "display_name": "Python 3 (ipykernel)",
   "language": "python",
   "name": "python3"
  },
  "language_info": {
   "codemirror_mode": {
    "name": "ipython",
    "version": 3
   },
   "file_extension": ".py",
   "mimetype": "text/x-python",
   "name": "python",
   "nbconvert_exporter": "python",
   "pygments_lexer": "ipython3",
   "version": "3.10.4"
  }
 },
 "nbformat": 4,
 "nbformat_minor": 4
}
